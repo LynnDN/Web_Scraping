{
  "nbformat": 4,
  "nbformat_minor": 0,
  "metadata": {
    "colab": {
      "provenance": [],
      "authorship_tag": "ABX9TyPdKIZwTM1cWGEX4P6C8uBa",
      "include_colab_link": true
    },
    "kernelspec": {
      "name": "python3",
      "display_name": "Python 3"
    },
    "language_info": {
      "name": "python"
    },
    "widgets": {
      "application/vnd.jupyter.widget-state+json": {
        "4e865ea8d4214a6b9cc0ebeea94cc513": {
          "model_module": "@jupyter-widgets/controls",
          "model_name": "HBoxModel",
          "model_module_version": "1.5.0",
          "state": {
            "_dom_classes": [],
            "_model_module": "@jupyter-widgets/controls",
            "_model_module_version": "1.5.0",
            "_model_name": "HBoxModel",
            "_view_count": null,
            "_view_module": "@jupyter-widgets/controls",
            "_view_module_version": "1.5.0",
            "_view_name": "HBoxView",
            "box_style": "",
            "children": [
              "IPY_MODEL_3495bcf23262428398de7fa6e78be801",
              "IPY_MODEL_cb505f0ebb2547e2bbdbf23d9b3e8404",
              "IPY_MODEL_dffd924aae16459e94bbcb83cc460b0e"
            ],
            "layout": "IPY_MODEL_f3b5075cbc7e49e399cb28917a77f42a"
          }
        },
        "3495bcf23262428398de7fa6e78be801": {
          "model_module": "@jupyter-widgets/controls",
          "model_name": "HTMLModel",
          "model_module_version": "1.5.0",
          "state": {
            "_dom_classes": [],
            "_model_module": "@jupyter-widgets/controls",
            "_model_module_version": "1.5.0",
            "_model_name": "HTMLModel",
            "_view_count": null,
            "_view_module": "@jupyter-widgets/controls",
            "_view_module_version": "1.5.0",
            "_view_name": "HTMLView",
            "description": "",
            "description_tooltip": null,
            "layout": "IPY_MODEL_5a647f6178114cdda916be3105fad696",
            "placeholder": "​",
            "style": "IPY_MODEL_c56b404393df472abbf68b25a7c41d2f",
            "value": "Downloading (…)lve/main/config.json: 100%"
          }
        },
        "cb505f0ebb2547e2bbdbf23d9b3e8404": {
          "model_module": "@jupyter-widgets/controls",
          "model_name": "FloatProgressModel",
          "model_module_version": "1.5.0",
          "state": {
            "_dom_classes": [],
            "_model_module": "@jupyter-widgets/controls",
            "_model_module_version": "1.5.0",
            "_model_name": "FloatProgressModel",
            "_view_count": null,
            "_view_module": "@jupyter-widgets/controls",
            "_view_module_version": "1.5.0",
            "_view_name": "ProgressView",
            "bar_style": "success",
            "description": "",
            "description_tooltip": null,
            "layout": "IPY_MODEL_a98d4cfe06434ee0ad40a48526d26934",
            "max": 629,
            "min": 0,
            "orientation": "horizontal",
            "style": "IPY_MODEL_14d8cbb67ec045cd9f57166bea8782c5",
            "value": 629
          }
        },
        "dffd924aae16459e94bbcb83cc460b0e": {
          "model_module": "@jupyter-widgets/controls",
          "model_name": "HTMLModel",
          "model_module_version": "1.5.0",
          "state": {
            "_dom_classes": [],
            "_model_module": "@jupyter-widgets/controls",
            "_model_module_version": "1.5.0",
            "_model_name": "HTMLModel",
            "_view_count": null,
            "_view_module": "@jupyter-widgets/controls",
            "_view_module_version": "1.5.0",
            "_view_name": "HTMLView",
            "description": "",
            "description_tooltip": null,
            "layout": "IPY_MODEL_0ee2182b74eb4aa2ac909bb4ceb2a4bf",
            "placeholder": "​",
            "style": "IPY_MODEL_fbc1039bb43f46018cf3530496d62957",
            "value": " 629/629 [00:00&lt;00:00, 8.46kB/s]"
          }
        },
        "f3b5075cbc7e49e399cb28917a77f42a": {
          "model_module": "@jupyter-widgets/base",
          "model_name": "LayoutModel",
          "model_module_version": "1.2.0",
          "state": {
            "_model_module": "@jupyter-widgets/base",
            "_model_module_version": "1.2.0",
            "_model_name": "LayoutModel",
            "_view_count": null,
            "_view_module": "@jupyter-widgets/base",
            "_view_module_version": "1.2.0",
            "_view_name": "LayoutView",
            "align_content": null,
            "align_items": null,
            "align_self": null,
            "border": null,
            "bottom": null,
            "display": null,
            "flex": null,
            "flex_flow": null,
            "grid_area": null,
            "grid_auto_columns": null,
            "grid_auto_flow": null,
            "grid_auto_rows": null,
            "grid_column": null,
            "grid_gap": null,
            "grid_row": null,
            "grid_template_areas": null,
            "grid_template_columns": null,
            "grid_template_rows": null,
            "height": null,
            "justify_content": null,
            "justify_items": null,
            "left": null,
            "margin": null,
            "max_height": null,
            "max_width": null,
            "min_height": null,
            "min_width": null,
            "object_fit": null,
            "object_position": null,
            "order": null,
            "overflow": null,
            "overflow_x": null,
            "overflow_y": null,
            "padding": null,
            "right": null,
            "top": null,
            "visibility": null,
            "width": null
          }
        },
        "5a647f6178114cdda916be3105fad696": {
          "model_module": "@jupyter-widgets/base",
          "model_name": "LayoutModel",
          "model_module_version": "1.2.0",
          "state": {
            "_model_module": "@jupyter-widgets/base",
            "_model_module_version": "1.2.0",
            "_model_name": "LayoutModel",
            "_view_count": null,
            "_view_module": "@jupyter-widgets/base",
            "_view_module_version": "1.2.0",
            "_view_name": "LayoutView",
            "align_content": null,
            "align_items": null,
            "align_self": null,
            "border": null,
            "bottom": null,
            "display": null,
            "flex": null,
            "flex_flow": null,
            "grid_area": null,
            "grid_auto_columns": null,
            "grid_auto_flow": null,
            "grid_auto_rows": null,
            "grid_column": null,
            "grid_gap": null,
            "grid_row": null,
            "grid_template_areas": null,
            "grid_template_columns": null,
            "grid_template_rows": null,
            "height": null,
            "justify_content": null,
            "justify_items": null,
            "left": null,
            "margin": null,
            "max_height": null,
            "max_width": null,
            "min_height": null,
            "min_width": null,
            "object_fit": null,
            "object_position": null,
            "order": null,
            "overflow": null,
            "overflow_x": null,
            "overflow_y": null,
            "padding": null,
            "right": null,
            "top": null,
            "visibility": null,
            "width": null
          }
        },
        "c56b404393df472abbf68b25a7c41d2f": {
          "model_module": "@jupyter-widgets/controls",
          "model_name": "DescriptionStyleModel",
          "model_module_version": "1.5.0",
          "state": {
            "_model_module": "@jupyter-widgets/controls",
            "_model_module_version": "1.5.0",
            "_model_name": "DescriptionStyleModel",
            "_view_count": null,
            "_view_module": "@jupyter-widgets/base",
            "_view_module_version": "1.2.0",
            "_view_name": "StyleView",
            "description_width": ""
          }
        },
        "a98d4cfe06434ee0ad40a48526d26934": {
          "model_module": "@jupyter-widgets/base",
          "model_name": "LayoutModel",
          "model_module_version": "1.2.0",
          "state": {
            "_model_module": "@jupyter-widgets/base",
            "_model_module_version": "1.2.0",
            "_model_name": "LayoutModel",
            "_view_count": null,
            "_view_module": "@jupyter-widgets/base",
            "_view_module_version": "1.2.0",
            "_view_name": "LayoutView",
            "align_content": null,
            "align_items": null,
            "align_self": null,
            "border": null,
            "bottom": null,
            "display": null,
            "flex": null,
            "flex_flow": null,
            "grid_area": null,
            "grid_auto_columns": null,
            "grid_auto_flow": null,
            "grid_auto_rows": null,
            "grid_column": null,
            "grid_gap": null,
            "grid_row": null,
            "grid_template_areas": null,
            "grid_template_columns": null,
            "grid_template_rows": null,
            "height": null,
            "justify_content": null,
            "justify_items": null,
            "left": null,
            "margin": null,
            "max_height": null,
            "max_width": null,
            "min_height": null,
            "min_width": null,
            "object_fit": null,
            "object_position": null,
            "order": null,
            "overflow": null,
            "overflow_x": null,
            "overflow_y": null,
            "padding": null,
            "right": null,
            "top": null,
            "visibility": null,
            "width": null
          }
        },
        "14d8cbb67ec045cd9f57166bea8782c5": {
          "model_module": "@jupyter-widgets/controls",
          "model_name": "ProgressStyleModel",
          "model_module_version": "1.5.0",
          "state": {
            "_model_module": "@jupyter-widgets/controls",
            "_model_module_version": "1.5.0",
            "_model_name": "ProgressStyleModel",
            "_view_count": null,
            "_view_module": "@jupyter-widgets/base",
            "_view_module_version": "1.2.0",
            "_view_name": "StyleView",
            "bar_color": null,
            "description_width": ""
          }
        },
        "0ee2182b74eb4aa2ac909bb4ceb2a4bf": {
          "model_module": "@jupyter-widgets/base",
          "model_name": "LayoutModel",
          "model_module_version": "1.2.0",
          "state": {
            "_model_module": "@jupyter-widgets/base",
            "_model_module_version": "1.2.0",
            "_model_name": "LayoutModel",
            "_view_count": null,
            "_view_module": "@jupyter-widgets/base",
            "_view_module_version": "1.2.0",
            "_view_name": "LayoutView",
            "align_content": null,
            "align_items": null,
            "align_self": null,
            "border": null,
            "bottom": null,
            "display": null,
            "flex": null,
            "flex_flow": null,
            "grid_area": null,
            "grid_auto_columns": null,
            "grid_auto_flow": null,
            "grid_auto_rows": null,
            "grid_column": null,
            "grid_gap": null,
            "grid_row": null,
            "grid_template_areas": null,
            "grid_template_columns": null,
            "grid_template_rows": null,
            "height": null,
            "justify_content": null,
            "justify_items": null,
            "left": null,
            "margin": null,
            "max_height": null,
            "max_width": null,
            "min_height": null,
            "min_width": null,
            "object_fit": null,
            "object_position": null,
            "order": null,
            "overflow": null,
            "overflow_x": null,
            "overflow_y": null,
            "padding": null,
            "right": null,
            "top": null,
            "visibility": null,
            "width": null
          }
        },
        "fbc1039bb43f46018cf3530496d62957": {
          "model_module": "@jupyter-widgets/controls",
          "model_name": "DescriptionStyleModel",
          "model_module_version": "1.5.0",
          "state": {
            "_model_module": "@jupyter-widgets/controls",
            "_model_module_version": "1.5.0",
            "_model_name": "DescriptionStyleModel",
            "_view_count": null,
            "_view_module": "@jupyter-widgets/base",
            "_view_module_version": "1.2.0",
            "_view_name": "StyleView",
            "description_width": ""
          }
        },
        "ba0e4fe7ab3244c18754477494facdad": {
          "model_module": "@jupyter-widgets/controls",
          "model_name": "HBoxModel",
          "model_module_version": "1.5.0",
          "state": {
            "_dom_classes": [],
            "_model_module": "@jupyter-widgets/controls",
            "_model_module_version": "1.5.0",
            "_model_name": "HBoxModel",
            "_view_count": null,
            "_view_module": "@jupyter-widgets/controls",
            "_view_module_version": "1.5.0",
            "_view_name": "HBoxView",
            "box_style": "",
            "children": [
              "IPY_MODEL_4d1cf832e49a4c8fb8aaf3860a997f97",
              "IPY_MODEL_b6c83f1586064244b87e85202abb3fe8",
              "IPY_MODEL_d5c2dee5fcdb4acabb060d30dfa45831"
            ],
            "layout": "IPY_MODEL_c7472b2978ea434eabe9a8aedeaa92a0"
          }
        },
        "4d1cf832e49a4c8fb8aaf3860a997f97": {
          "model_module": "@jupyter-widgets/controls",
          "model_name": "HTMLModel",
          "model_module_version": "1.5.0",
          "state": {
            "_dom_classes": [],
            "_model_module": "@jupyter-widgets/controls",
            "_model_module_version": "1.5.0",
            "_model_name": "HTMLModel",
            "_view_count": null,
            "_view_module": "@jupyter-widgets/controls",
            "_view_module_version": "1.5.0",
            "_view_name": "HTMLView",
            "description": "",
            "description_tooltip": null,
            "layout": "IPY_MODEL_d169af67458549f09a702bf1dfec11fb",
            "placeholder": "​",
            "style": "IPY_MODEL_1850911f58054097b72759c26ead8fae",
            "value": "Downloading pytorch_model.bin: 100%"
          }
        },
        "b6c83f1586064244b87e85202abb3fe8": {
          "model_module": "@jupyter-widgets/controls",
          "model_name": "FloatProgressModel",
          "model_module_version": "1.5.0",
          "state": {
            "_dom_classes": [],
            "_model_module": "@jupyter-widgets/controls",
            "_model_module_version": "1.5.0",
            "_model_name": "FloatProgressModel",
            "_view_count": null,
            "_view_module": "@jupyter-widgets/controls",
            "_view_module_version": "1.5.0",
            "_view_name": "ProgressView",
            "bar_style": "success",
            "description": "",
            "description_tooltip": null,
            "layout": "IPY_MODEL_0c0f51ec32f8410c8537f1d1dcf70c38",
            "max": 267844284,
            "min": 0,
            "orientation": "horizontal",
            "style": "IPY_MODEL_d93b1137d2b84065b943fb833cbc87ca",
            "value": 267844284
          }
        },
        "d5c2dee5fcdb4acabb060d30dfa45831": {
          "model_module": "@jupyter-widgets/controls",
          "model_name": "HTMLModel",
          "model_module_version": "1.5.0",
          "state": {
            "_dom_classes": [],
            "_model_module": "@jupyter-widgets/controls",
            "_model_module_version": "1.5.0",
            "_model_name": "HTMLModel",
            "_view_count": null,
            "_view_module": "@jupyter-widgets/controls",
            "_view_module_version": "1.5.0",
            "_view_name": "HTMLView",
            "description": "",
            "description_tooltip": null,
            "layout": "IPY_MODEL_3b1f111235b843d38e5b5f420ddfc044",
            "placeholder": "​",
            "style": "IPY_MODEL_2496d6bf1d7b45acae19fc2e73a6853a",
            "value": " 268M/268M [00:04&lt;00:00, 19.5MB/s]"
          }
        },
        "c7472b2978ea434eabe9a8aedeaa92a0": {
          "model_module": "@jupyter-widgets/base",
          "model_name": "LayoutModel",
          "model_module_version": "1.2.0",
          "state": {
            "_model_module": "@jupyter-widgets/base",
            "_model_module_version": "1.2.0",
            "_model_name": "LayoutModel",
            "_view_count": null,
            "_view_module": "@jupyter-widgets/base",
            "_view_module_version": "1.2.0",
            "_view_name": "LayoutView",
            "align_content": null,
            "align_items": null,
            "align_self": null,
            "border": null,
            "bottom": null,
            "display": null,
            "flex": null,
            "flex_flow": null,
            "grid_area": null,
            "grid_auto_columns": null,
            "grid_auto_flow": null,
            "grid_auto_rows": null,
            "grid_column": null,
            "grid_gap": null,
            "grid_row": null,
            "grid_template_areas": null,
            "grid_template_columns": null,
            "grid_template_rows": null,
            "height": null,
            "justify_content": null,
            "justify_items": null,
            "left": null,
            "margin": null,
            "max_height": null,
            "max_width": null,
            "min_height": null,
            "min_width": null,
            "object_fit": null,
            "object_position": null,
            "order": null,
            "overflow": null,
            "overflow_x": null,
            "overflow_y": null,
            "padding": null,
            "right": null,
            "top": null,
            "visibility": null,
            "width": null
          }
        },
        "d169af67458549f09a702bf1dfec11fb": {
          "model_module": "@jupyter-widgets/base",
          "model_name": "LayoutModel",
          "model_module_version": "1.2.0",
          "state": {
            "_model_module": "@jupyter-widgets/base",
            "_model_module_version": "1.2.0",
            "_model_name": "LayoutModel",
            "_view_count": null,
            "_view_module": "@jupyter-widgets/base",
            "_view_module_version": "1.2.0",
            "_view_name": "LayoutView",
            "align_content": null,
            "align_items": null,
            "align_self": null,
            "border": null,
            "bottom": null,
            "display": null,
            "flex": null,
            "flex_flow": null,
            "grid_area": null,
            "grid_auto_columns": null,
            "grid_auto_flow": null,
            "grid_auto_rows": null,
            "grid_column": null,
            "grid_gap": null,
            "grid_row": null,
            "grid_template_areas": null,
            "grid_template_columns": null,
            "grid_template_rows": null,
            "height": null,
            "justify_content": null,
            "justify_items": null,
            "left": null,
            "margin": null,
            "max_height": null,
            "max_width": null,
            "min_height": null,
            "min_width": null,
            "object_fit": null,
            "object_position": null,
            "order": null,
            "overflow": null,
            "overflow_x": null,
            "overflow_y": null,
            "padding": null,
            "right": null,
            "top": null,
            "visibility": null,
            "width": null
          }
        },
        "1850911f58054097b72759c26ead8fae": {
          "model_module": "@jupyter-widgets/controls",
          "model_name": "DescriptionStyleModel",
          "model_module_version": "1.5.0",
          "state": {
            "_model_module": "@jupyter-widgets/controls",
            "_model_module_version": "1.5.0",
            "_model_name": "DescriptionStyleModel",
            "_view_count": null,
            "_view_module": "@jupyter-widgets/base",
            "_view_module_version": "1.2.0",
            "_view_name": "StyleView",
            "description_width": ""
          }
        },
        "0c0f51ec32f8410c8537f1d1dcf70c38": {
          "model_module": "@jupyter-widgets/base",
          "model_name": "LayoutModel",
          "model_module_version": "1.2.0",
          "state": {
            "_model_module": "@jupyter-widgets/base",
            "_model_module_version": "1.2.0",
            "_model_name": "LayoutModel",
            "_view_count": null,
            "_view_module": "@jupyter-widgets/base",
            "_view_module_version": "1.2.0",
            "_view_name": "LayoutView",
            "align_content": null,
            "align_items": null,
            "align_self": null,
            "border": null,
            "bottom": null,
            "display": null,
            "flex": null,
            "flex_flow": null,
            "grid_area": null,
            "grid_auto_columns": null,
            "grid_auto_flow": null,
            "grid_auto_rows": null,
            "grid_column": null,
            "grid_gap": null,
            "grid_row": null,
            "grid_template_areas": null,
            "grid_template_columns": null,
            "grid_template_rows": null,
            "height": null,
            "justify_content": null,
            "justify_items": null,
            "left": null,
            "margin": null,
            "max_height": null,
            "max_width": null,
            "min_height": null,
            "min_width": null,
            "object_fit": null,
            "object_position": null,
            "order": null,
            "overflow": null,
            "overflow_x": null,
            "overflow_y": null,
            "padding": null,
            "right": null,
            "top": null,
            "visibility": null,
            "width": null
          }
        },
        "d93b1137d2b84065b943fb833cbc87ca": {
          "model_module": "@jupyter-widgets/controls",
          "model_name": "ProgressStyleModel",
          "model_module_version": "1.5.0",
          "state": {
            "_model_module": "@jupyter-widgets/controls",
            "_model_module_version": "1.5.0",
            "_model_name": "ProgressStyleModel",
            "_view_count": null,
            "_view_module": "@jupyter-widgets/base",
            "_view_module_version": "1.2.0",
            "_view_name": "StyleView",
            "bar_color": null,
            "description_width": ""
          }
        },
        "3b1f111235b843d38e5b5f420ddfc044": {
          "model_module": "@jupyter-widgets/base",
          "model_name": "LayoutModel",
          "model_module_version": "1.2.0",
          "state": {
            "_model_module": "@jupyter-widgets/base",
            "_model_module_version": "1.2.0",
            "_model_name": "LayoutModel",
            "_view_count": null,
            "_view_module": "@jupyter-widgets/base",
            "_view_module_version": "1.2.0",
            "_view_name": "LayoutView",
            "align_content": null,
            "align_items": null,
            "align_self": null,
            "border": null,
            "bottom": null,
            "display": null,
            "flex": null,
            "flex_flow": null,
            "grid_area": null,
            "grid_auto_columns": null,
            "grid_auto_flow": null,
            "grid_auto_rows": null,
            "grid_column": null,
            "grid_gap": null,
            "grid_row": null,
            "grid_template_areas": null,
            "grid_template_columns": null,
            "grid_template_rows": null,
            "height": null,
            "justify_content": null,
            "justify_items": null,
            "left": null,
            "margin": null,
            "max_height": null,
            "max_width": null,
            "min_height": null,
            "min_width": null,
            "object_fit": null,
            "object_position": null,
            "order": null,
            "overflow": null,
            "overflow_x": null,
            "overflow_y": null,
            "padding": null,
            "right": null,
            "top": null,
            "visibility": null,
            "width": null
          }
        },
        "2496d6bf1d7b45acae19fc2e73a6853a": {
          "model_module": "@jupyter-widgets/controls",
          "model_name": "DescriptionStyleModel",
          "model_module_version": "1.5.0",
          "state": {
            "_model_module": "@jupyter-widgets/controls",
            "_model_module_version": "1.5.0",
            "_model_name": "DescriptionStyleModel",
            "_view_count": null,
            "_view_module": "@jupyter-widgets/base",
            "_view_module_version": "1.2.0",
            "_view_name": "StyleView",
            "description_width": ""
          }
        },
        "1adb33f103d64a639a809bc076168d1f": {
          "model_module": "@jupyter-widgets/controls",
          "model_name": "HBoxModel",
          "model_module_version": "1.5.0",
          "state": {
            "_dom_classes": [],
            "_model_module": "@jupyter-widgets/controls",
            "_model_module_version": "1.5.0",
            "_model_name": "HBoxModel",
            "_view_count": null,
            "_view_module": "@jupyter-widgets/controls",
            "_view_module_version": "1.5.0",
            "_view_name": "HBoxView",
            "box_style": "",
            "children": [
              "IPY_MODEL_aa78fafbcfe54b429e657ac739f617d6",
              "IPY_MODEL_abcfe81a8702433eaf5ea92853308a1c",
              "IPY_MODEL_3264809fed194d0eafdb7b19a1fe2b07"
            ],
            "layout": "IPY_MODEL_60b58d0cb78a4bf9bf3aeb0ef81d7546"
          }
        },
        "aa78fafbcfe54b429e657ac739f617d6": {
          "model_module": "@jupyter-widgets/controls",
          "model_name": "HTMLModel",
          "model_module_version": "1.5.0",
          "state": {
            "_dom_classes": [],
            "_model_module": "@jupyter-widgets/controls",
            "_model_module_version": "1.5.0",
            "_model_name": "HTMLModel",
            "_view_count": null,
            "_view_module": "@jupyter-widgets/controls",
            "_view_module_version": "1.5.0",
            "_view_name": "HTMLView",
            "description": "",
            "description_tooltip": null,
            "layout": "IPY_MODEL_2fae71d209774873ac221980d61b3700",
            "placeholder": "​",
            "style": "IPY_MODEL_2f7d78827a864f638e4adf65e5ee1cf2",
            "value": "Downloading (…)okenizer_config.json: 100%"
          }
        },
        "abcfe81a8702433eaf5ea92853308a1c": {
          "model_module": "@jupyter-widgets/controls",
          "model_name": "FloatProgressModel",
          "model_module_version": "1.5.0",
          "state": {
            "_dom_classes": [],
            "_model_module": "@jupyter-widgets/controls",
            "_model_module_version": "1.5.0",
            "_model_name": "FloatProgressModel",
            "_view_count": null,
            "_view_module": "@jupyter-widgets/controls",
            "_view_module_version": "1.5.0",
            "_view_name": "ProgressView",
            "bar_style": "success",
            "description": "",
            "description_tooltip": null,
            "layout": "IPY_MODEL_0e94f1e3f6c1498ab9ed29190d11b93d",
            "max": 48,
            "min": 0,
            "orientation": "horizontal",
            "style": "IPY_MODEL_80726ec355a14cb5ad7187fe7528dae6",
            "value": 48
          }
        },
        "3264809fed194d0eafdb7b19a1fe2b07": {
          "model_module": "@jupyter-widgets/controls",
          "model_name": "HTMLModel",
          "model_module_version": "1.5.0",
          "state": {
            "_dom_classes": [],
            "_model_module": "@jupyter-widgets/controls",
            "_model_module_version": "1.5.0",
            "_model_name": "HTMLModel",
            "_view_count": null,
            "_view_module": "@jupyter-widgets/controls",
            "_view_module_version": "1.5.0",
            "_view_name": "HTMLView",
            "description": "",
            "description_tooltip": null,
            "layout": "IPY_MODEL_6bd26eb806a44abc80c86dc6dce9afbb",
            "placeholder": "​",
            "style": "IPY_MODEL_42648b8dfa204040b3b5e1ba33aee876",
            "value": " 48.0/48.0 [00:00&lt;00:00, 1.13kB/s]"
          }
        },
        "60b58d0cb78a4bf9bf3aeb0ef81d7546": {
          "model_module": "@jupyter-widgets/base",
          "model_name": "LayoutModel",
          "model_module_version": "1.2.0",
          "state": {
            "_model_module": "@jupyter-widgets/base",
            "_model_module_version": "1.2.0",
            "_model_name": "LayoutModel",
            "_view_count": null,
            "_view_module": "@jupyter-widgets/base",
            "_view_module_version": "1.2.0",
            "_view_name": "LayoutView",
            "align_content": null,
            "align_items": null,
            "align_self": null,
            "border": null,
            "bottom": null,
            "display": null,
            "flex": null,
            "flex_flow": null,
            "grid_area": null,
            "grid_auto_columns": null,
            "grid_auto_flow": null,
            "grid_auto_rows": null,
            "grid_column": null,
            "grid_gap": null,
            "grid_row": null,
            "grid_template_areas": null,
            "grid_template_columns": null,
            "grid_template_rows": null,
            "height": null,
            "justify_content": null,
            "justify_items": null,
            "left": null,
            "margin": null,
            "max_height": null,
            "max_width": null,
            "min_height": null,
            "min_width": null,
            "object_fit": null,
            "object_position": null,
            "order": null,
            "overflow": null,
            "overflow_x": null,
            "overflow_y": null,
            "padding": null,
            "right": null,
            "top": null,
            "visibility": null,
            "width": null
          }
        },
        "2fae71d209774873ac221980d61b3700": {
          "model_module": "@jupyter-widgets/base",
          "model_name": "LayoutModel",
          "model_module_version": "1.2.0",
          "state": {
            "_model_module": "@jupyter-widgets/base",
            "_model_module_version": "1.2.0",
            "_model_name": "LayoutModel",
            "_view_count": null,
            "_view_module": "@jupyter-widgets/base",
            "_view_module_version": "1.2.0",
            "_view_name": "LayoutView",
            "align_content": null,
            "align_items": null,
            "align_self": null,
            "border": null,
            "bottom": null,
            "display": null,
            "flex": null,
            "flex_flow": null,
            "grid_area": null,
            "grid_auto_columns": null,
            "grid_auto_flow": null,
            "grid_auto_rows": null,
            "grid_column": null,
            "grid_gap": null,
            "grid_row": null,
            "grid_template_areas": null,
            "grid_template_columns": null,
            "grid_template_rows": null,
            "height": null,
            "justify_content": null,
            "justify_items": null,
            "left": null,
            "margin": null,
            "max_height": null,
            "max_width": null,
            "min_height": null,
            "min_width": null,
            "object_fit": null,
            "object_position": null,
            "order": null,
            "overflow": null,
            "overflow_x": null,
            "overflow_y": null,
            "padding": null,
            "right": null,
            "top": null,
            "visibility": null,
            "width": null
          }
        },
        "2f7d78827a864f638e4adf65e5ee1cf2": {
          "model_module": "@jupyter-widgets/controls",
          "model_name": "DescriptionStyleModel",
          "model_module_version": "1.5.0",
          "state": {
            "_model_module": "@jupyter-widgets/controls",
            "_model_module_version": "1.5.0",
            "_model_name": "DescriptionStyleModel",
            "_view_count": null,
            "_view_module": "@jupyter-widgets/base",
            "_view_module_version": "1.2.0",
            "_view_name": "StyleView",
            "description_width": ""
          }
        },
        "0e94f1e3f6c1498ab9ed29190d11b93d": {
          "model_module": "@jupyter-widgets/base",
          "model_name": "LayoutModel",
          "model_module_version": "1.2.0",
          "state": {
            "_model_module": "@jupyter-widgets/base",
            "_model_module_version": "1.2.0",
            "_model_name": "LayoutModel",
            "_view_count": null,
            "_view_module": "@jupyter-widgets/base",
            "_view_module_version": "1.2.0",
            "_view_name": "LayoutView",
            "align_content": null,
            "align_items": null,
            "align_self": null,
            "border": null,
            "bottom": null,
            "display": null,
            "flex": null,
            "flex_flow": null,
            "grid_area": null,
            "grid_auto_columns": null,
            "grid_auto_flow": null,
            "grid_auto_rows": null,
            "grid_column": null,
            "grid_gap": null,
            "grid_row": null,
            "grid_template_areas": null,
            "grid_template_columns": null,
            "grid_template_rows": null,
            "height": null,
            "justify_content": null,
            "justify_items": null,
            "left": null,
            "margin": null,
            "max_height": null,
            "max_width": null,
            "min_height": null,
            "min_width": null,
            "object_fit": null,
            "object_position": null,
            "order": null,
            "overflow": null,
            "overflow_x": null,
            "overflow_y": null,
            "padding": null,
            "right": null,
            "top": null,
            "visibility": null,
            "width": null
          }
        },
        "80726ec355a14cb5ad7187fe7528dae6": {
          "model_module": "@jupyter-widgets/controls",
          "model_name": "ProgressStyleModel",
          "model_module_version": "1.5.0",
          "state": {
            "_model_module": "@jupyter-widgets/controls",
            "_model_module_version": "1.5.0",
            "_model_name": "ProgressStyleModel",
            "_view_count": null,
            "_view_module": "@jupyter-widgets/base",
            "_view_module_version": "1.2.0",
            "_view_name": "StyleView",
            "bar_color": null,
            "description_width": ""
          }
        },
        "6bd26eb806a44abc80c86dc6dce9afbb": {
          "model_module": "@jupyter-widgets/base",
          "model_name": "LayoutModel",
          "model_module_version": "1.2.0",
          "state": {
            "_model_module": "@jupyter-widgets/base",
            "_model_module_version": "1.2.0",
            "_model_name": "LayoutModel",
            "_view_count": null,
            "_view_module": "@jupyter-widgets/base",
            "_view_module_version": "1.2.0",
            "_view_name": "LayoutView",
            "align_content": null,
            "align_items": null,
            "align_self": null,
            "border": null,
            "bottom": null,
            "display": null,
            "flex": null,
            "flex_flow": null,
            "grid_area": null,
            "grid_auto_columns": null,
            "grid_auto_flow": null,
            "grid_auto_rows": null,
            "grid_column": null,
            "grid_gap": null,
            "grid_row": null,
            "grid_template_areas": null,
            "grid_template_columns": null,
            "grid_template_rows": null,
            "height": null,
            "justify_content": null,
            "justify_items": null,
            "left": null,
            "margin": null,
            "max_height": null,
            "max_width": null,
            "min_height": null,
            "min_width": null,
            "object_fit": null,
            "object_position": null,
            "order": null,
            "overflow": null,
            "overflow_x": null,
            "overflow_y": null,
            "padding": null,
            "right": null,
            "top": null,
            "visibility": null,
            "width": null
          }
        },
        "42648b8dfa204040b3b5e1ba33aee876": {
          "model_module": "@jupyter-widgets/controls",
          "model_name": "DescriptionStyleModel",
          "model_module_version": "1.5.0",
          "state": {
            "_model_module": "@jupyter-widgets/controls",
            "_model_module_version": "1.5.0",
            "_model_name": "DescriptionStyleModel",
            "_view_count": null,
            "_view_module": "@jupyter-widgets/base",
            "_view_module_version": "1.2.0",
            "_view_name": "StyleView",
            "description_width": ""
          }
        },
        "cf8b9c4c0e1b41ee807e1fa3d1d9fb95": {
          "model_module": "@jupyter-widgets/controls",
          "model_name": "HBoxModel",
          "model_module_version": "1.5.0",
          "state": {
            "_dom_classes": [],
            "_model_module": "@jupyter-widgets/controls",
            "_model_module_version": "1.5.0",
            "_model_name": "HBoxModel",
            "_view_count": null,
            "_view_module": "@jupyter-widgets/controls",
            "_view_module_version": "1.5.0",
            "_view_name": "HBoxView",
            "box_style": "",
            "children": [
              "IPY_MODEL_89cafd66dc2f49eba1d55d3341664c29",
              "IPY_MODEL_4d7bb940f7c24a3b9400c6ef2586ab47",
              "IPY_MODEL_c293e443a57a466e932650621108335b"
            ],
            "layout": "IPY_MODEL_c0cdb88d85af48bbaa9d06a3128df1db"
          }
        },
        "89cafd66dc2f49eba1d55d3341664c29": {
          "model_module": "@jupyter-widgets/controls",
          "model_name": "HTMLModel",
          "model_module_version": "1.5.0",
          "state": {
            "_dom_classes": [],
            "_model_module": "@jupyter-widgets/controls",
            "_model_module_version": "1.5.0",
            "_model_name": "HTMLModel",
            "_view_count": null,
            "_view_module": "@jupyter-widgets/controls",
            "_view_module_version": "1.5.0",
            "_view_name": "HTMLView",
            "description": "",
            "description_tooltip": null,
            "layout": "IPY_MODEL_eb7841bffa25444aaf801f6e551aef0d",
            "placeholder": "​",
            "style": "IPY_MODEL_2a42e759475b45fb825c020f06769ff9",
            "value": "Downloading (…)solve/main/vocab.txt: 100%"
          }
        },
        "4d7bb940f7c24a3b9400c6ef2586ab47": {
          "model_module": "@jupyter-widgets/controls",
          "model_name": "FloatProgressModel",
          "model_module_version": "1.5.0",
          "state": {
            "_dom_classes": [],
            "_model_module": "@jupyter-widgets/controls",
            "_model_module_version": "1.5.0",
            "_model_name": "FloatProgressModel",
            "_view_count": null,
            "_view_module": "@jupyter-widgets/controls",
            "_view_module_version": "1.5.0",
            "_view_name": "ProgressView",
            "bar_style": "success",
            "description": "",
            "description_tooltip": null,
            "layout": "IPY_MODEL_fa4d3366c2034ae8b8e2d3b97d7c3fc2",
            "max": 231508,
            "min": 0,
            "orientation": "horizontal",
            "style": "IPY_MODEL_3679291720394ed8add2e37ae3d262f6",
            "value": 231508
          }
        },
        "c293e443a57a466e932650621108335b": {
          "model_module": "@jupyter-widgets/controls",
          "model_name": "HTMLModel",
          "model_module_version": "1.5.0",
          "state": {
            "_dom_classes": [],
            "_model_module": "@jupyter-widgets/controls",
            "_model_module_version": "1.5.0",
            "_model_name": "HTMLModel",
            "_view_count": null,
            "_view_module": "@jupyter-widgets/controls",
            "_view_module_version": "1.5.0",
            "_view_name": "HTMLView",
            "description": "",
            "description_tooltip": null,
            "layout": "IPY_MODEL_da0a0b6efa884c42977472e406773caf",
            "placeholder": "​",
            "style": "IPY_MODEL_60cff0418433484998ff25c5bd2eadb0",
            "value": " 232k/232k [00:00&lt;00:00, 2.98MB/s]"
          }
        },
        "c0cdb88d85af48bbaa9d06a3128df1db": {
          "model_module": "@jupyter-widgets/base",
          "model_name": "LayoutModel",
          "model_module_version": "1.2.0",
          "state": {
            "_model_module": "@jupyter-widgets/base",
            "_model_module_version": "1.2.0",
            "_model_name": "LayoutModel",
            "_view_count": null,
            "_view_module": "@jupyter-widgets/base",
            "_view_module_version": "1.2.0",
            "_view_name": "LayoutView",
            "align_content": null,
            "align_items": null,
            "align_self": null,
            "border": null,
            "bottom": null,
            "display": null,
            "flex": null,
            "flex_flow": null,
            "grid_area": null,
            "grid_auto_columns": null,
            "grid_auto_flow": null,
            "grid_auto_rows": null,
            "grid_column": null,
            "grid_gap": null,
            "grid_row": null,
            "grid_template_areas": null,
            "grid_template_columns": null,
            "grid_template_rows": null,
            "height": null,
            "justify_content": null,
            "justify_items": null,
            "left": null,
            "margin": null,
            "max_height": null,
            "max_width": null,
            "min_height": null,
            "min_width": null,
            "object_fit": null,
            "object_position": null,
            "order": null,
            "overflow": null,
            "overflow_x": null,
            "overflow_y": null,
            "padding": null,
            "right": null,
            "top": null,
            "visibility": null,
            "width": null
          }
        },
        "eb7841bffa25444aaf801f6e551aef0d": {
          "model_module": "@jupyter-widgets/base",
          "model_name": "LayoutModel",
          "model_module_version": "1.2.0",
          "state": {
            "_model_module": "@jupyter-widgets/base",
            "_model_module_version": "1.2.0",
            "_model_name": "LayoutModel",
            "_view_count": null,
            "_view_module": "@jupyter-widgets/base",
            "_view_module_version": "1.2.0",
            "_view_name": "LayoutView",
            "align_content": null,
            "align_items": null,
            "align_self": null,
            "border": null,
            "bottom": null,
            "display": null,
            "flex": null,
            "flex_flow": null,
            "grid_area": null,
            "grid_auto_columns": null,
            "grid_auto_flow": null,
            "grid_auto_rows": null,
            "grid_column": null,
            "grid_gap": null,
            "grid_row": null,
            "grid_template_areas": null,
            "grid_template_columns": null,
            "grid_template_rows": null,
            "height": null,
            "justify_content": null,
            "justify_items": null,
            "left": null,
            "margin": null,
            "max_height": null,
            "max_width": null,
            "min_height": null,
            "min_width": null,
            "object_fit": null,
            "object_position": null,
            "order": null,
            "overflow": null,
            "overflow_x": null,
            "overflow_y": null,
            "padding": null,
            "right": null,
            "top": null,
            "visibility": null,
            "width": null
          }
        },
        "2a42e759475b45fb825c020f06769ff9": {
          "model_module": "@jupyter-widgets/controls",
          "model_name": "DescriptionStyleModel",
          "model_module_version": "1.5.0",
          "state": {
            "_model_module": "@jupyter-widgets/controls",
            "_model_module_version": "1.5.0",
            "_model_name": "DescriptionStyleModel",
            "_view_count": null,
            "_view_module": "@jupyter-widgets/base",
            "_view_module_version": "1.2.0",
            "_view_name": "StyleView",
            "description_width": ""
          }
        },
        "fa4d3366c2034ae8b8e2d3b97d7c3fc2": {
          "model_module": "@jupyter-widgets/base",
          "model_name": "LayoutModel",
          "model_module_version": "1.2.0",
          "state": {
            "_model_module": "@jupyter-widgets/base",
            "_model_module_version": "1.2.0",
            "_model_name": "LayoutModel",
            "_view_count": null,
            "_view_module": "@jupyter-widgets/base",
            "_view_module_version": "1.2.0",
            "_view_name": "LayoutView",
            "align_content": null,
            "align_items": null,
            "align_self": null,
            "border": null,
            "bottom": null,
            "display": null,
            "flex": null,
            "flex_flow": null,
            "grid_area": null,
            "grid_auto_columns": null,
            "grid_auto_flow": null,
            "grid_auto_rows": null,
            "grid_column": null,
            "grid_gap": null,
            "grid_row": null,
            "grid_template_areas": null,
            "grid_template_columns": null,
            "grid_template_rows": null,
            "height": null,
            "justify_content": null,
            "justify_items": null,
            "left": null,
            "margin": null,
            "max_height": null,
            "max_width": null,
            "min_height": null,
            "min_width": null,
            "object_fit": null,
            "object_position": null,
            "order": null,
            "overflow": null,
            "overflow_x": null,
            "overflow_y": null,
            "padding": null,
            "right": null,
            "top": null,
            "visibility": null,
            "width": null
          }
        },
        "3679291720394ed8add2e37ae3d262f6": {
          "model_module": "@jupyter-widgets/controls",
          "model_name": "ProgressStyleModel",
          "model_module_version": "1.5.0",
          "state": {
            "_model_module": "@jupyter-widgets/controls",
            "_model_module_version": "1.5.0",
            "_model_name": "ProgressStyleModel",
            "_view_count": null,
            "_view_module": "@jupyter-widgets/base",
            "_view_module_version": "1.2.0",
            "_view_name": "StyleView",
            "bar_color": null,
            "description_width": ""
          }
        },
        "da0a0b6efa884c42977472e406773caf": {
          "model_module": "@jupyter-widgets/base",
          "model_name": "LayoutModel",
          "model_module_version": "1.2.0",
          "state": {
            "_model_module": "@jupyter-widgets/base",
            "_model_module_version": "1.2.0",
            "_model_name": "LayoutModel",
            "_view_count": null,
            "_view_module": "@jupyter-widgets/base",
            "_view_module_version": "1.2.0",
            "_view_name": "LayoutView",
            "align_content": null,
            "align_items": null,
            "align_self": null,
            "border": null,
            "bottom": null,
            "display": null,
            "flex": null,
            "flex_flow": null,
            "grid_area": null,
            "grid_auto_columns": null,
            "grid_auto_flow": null,
            "grid_auto_rows": null,
            "grid_column": null,
            "grid_gap": null,
            "grid_row": null,
            "grid_template_areas": null,
            "grid_template_columns": null,
            "grid_template_rows": null,
            "height": null,
            "justify_content": null,
            "justify_items": null,
            "left": null,
            "margin": null,
            "max_height": null,
            "max_width": null,
            "min_height": null,
            "min_width": null,
            "object_fit": null,
            "object_position": null,
            "order": null,
            "overflow": null,
            "overflow_x": null,
            "overflow_y": null,
            "padding": null,
            "right": null,
            "top": null,
            "visibility": null,
            "width": null
          }
        },
        "60cff0418433484998ff25c5bd2eadb0": {
          "model_module": "@jupyter-widgets/controls",
          "model_name": "DescriptionStyleModel",
          "model_module_version": "1.5.0",
          "state": {
            "_model_module": "@jupyter-widgets/controls",
            "_model_module_version": "1.5.0",
            "_model_name": "DescriptionStyleModel",
            "_view_count": null,
            "_view_module": "@jupyter-widgets/base",
            "_view_module_version": "1.2.0",
            "_view_name": "StyleView",
            "description_width": ""
          }
        }
      }
    }
  },
  "cells": [
    {
      "cell_type": "markdown",
      "metadata": {
        "id": "view-in-github",
        "colab_type": "text"
      },
      "source": [
        "<a href=\"https://colab.research.google.com/github/LynnDN/Web_Scraping/blob/main/Feature_based_Approach_LLM.ipynb\" target=\"_parent\"><img src=\"https://colab.research.google.com/assets/colab-badge.svg\" alt=\"Open In Colab\"/></a>"
      ]
    },
    {
      "cell_type": "markdown",
      "source": [
        "# Feature-Based Approach Using Large Language Models "
      ],
      "metadata": {
        "id": "FEwAM8Elbemt"
      }
    },
    {
      "cell_type": "markdown",
      "source": [
        "In this approach, we use a copus amount of tect as input to the Transformer to get output embeddings. The output is then used as input for classification models.\n"
      ],
      "metadata": {
        "id": "nYw6JU4ibiJr"
      }
    },
    {
      "cell_type": "markdown",
      "source": [
        "![image.png](data:image/png;base64,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)"
      ],
      "metadata": {
        "id": "IG5avBGacLaj"
      }
    },
    {
      "cell_type": "code",
      "source": [
        "!pip install transformer datasets"
      ],
      "metadata": {
        "colab": {
          "base_uri": "https://localhost:8080/"
        },
        "id": "97RxhT8kcKJt",
        "outputId": "3e34becf-78e6-4aa3-b771-a1ef329f47d6"
      },
      "execution_count": 1,
      "outputs": [
        {
          "output_type": "stream",
          "name": "stdout",
          "text": [
            "Looking in indexes: https://pypi.org/simple, https://us-python.pkg.dev/colab-wheels/public/simple/\n",
            "\u001b[31mERROR: Could not find a version that satisfies the requirement transformer (from versions: none)\u001b[0m\u001b[31m\n",
            "\u001b[0m\u001b[31mERROR: No matching distribution found for transformer\u001b[0m\u001b[31m\n",
            "\u001b[0m"
          ]
        }
      ]
    },
    {
      "cell_type": "code",
      "source": [
        "!pip install transformers"
      ],
      "metadata": {
        "colab": {
          "base_uri": "https://localhost:8080/"
        },
        "id": "-JxsK7ZYBVTL",
        "outputId": "851b21ff-7baf-4b8e-9cfa-de95a3b55d28"
      },
      "execution_count": 14,
      "outputs": [
        {
          "output_type": "stream",
          "name": "stdout",
          "text": [
            "Looking in indexes: https://pypi.org/simple, https://us-python.pkg.dev/colab-wheels/public/simple/\n",
            "Collecting transformers\n",
            "  Downloading transformers-4.29.2-py3-none-any.whl (7.1 MB)\n",
            "\u001b[2K     \u001b[90m━━━━━━━━━━━━━━━━━━━━━━━━━━━━━━━━━━━━━━━━\u001b[0m \u001b[32m7.1/7.1 MB\u001b[0m \u001b[31m45.1 MB/s\u001b[0m eta \u001b[36m0:00:00\u001b[0m\n",
            "\u001b[?25hRequirement already satisfied: filelock in /usr/local/lib/python3.10/dist-packages (from transformers) (3.12.0)\n",
            "Collecting huggingface-hub<1.0,>=0.14.1 (from transformers)\n",
            "  Downloading huggingface_hub-0.14.1-py3-none-any.whl (224 kB)\n",
            "\u001b[2K     \u001b[90m━━━━━━━━━━━━━━━━━━━━━━━━━━━━━━━━━━━━━━\u001b[0m \u001b[32m224.5/224.5 kB\u001b[0m \u001b[31m20.4 MB/s\u001b[0m eta \u001b[36m0:00:00\u001b[0m\n",
            "\u001b[?25hRequirement already satisfied: numpy>=1.17 in /usr/local/lib/python3.10/dist-packages (from transformers) (1.22.4)\n",
            "Requirement already satisfied: packaging>=20.0 in /usr/local/lib/python3.10/dist-packages (from transformers) (23.1)\n",
            "Requirement already satisfied: pyyaml>=5.1 in /usr/local/lib/python3.10/dist-packages (from transformers) (6.0)\n",
            "Requirement already satisfied: regex!=2019.12.17 in /usr/local/lib/python3.10/dist-packages (from transformers) (2022.10.31)\n",
            "Requirement already satisfied: requests in /usr/local/lib/python3.10/dist-packages (from transformers) (2.27.1)\n",
            "Collecting tokenizers!=0.11.3,<0.14,>=0.11.1 (from transformers)\n",
            "  Downloading tokenizers-0.13.3-cp310-cp310-manylinux_2_17_x86_64.manylinux2014_x86_64.whl (7.8 MB)\n",
            "\u001b[2K     \u001b[90m━━━━━━━━━━━━━━━━━━━━━━━━━━━━━━━━━━━━━━━━\u001b[0m \u001b[32m7.8/7.8 MB\u001b[0m \u001b[31m63.9 MB/s\u001b[0m eta \u001b[36m0:00:00\u001b[0m\n",
            "\u001b[?25hRequirement already satisfied: tqdm>=4.27 in /usr/local/lib/python3.10/dist-packages (from transformers) (4.65.0)\n",
            "Requirement already satisfied: fsspec in /usr/local/lib/python3.10/dist-packages (from huggingface-hub<1.0,>=0.14.1->transformers) (2023.4.0)\n",
            "Requirement already satisfied: typing-extensions>=3.7.4.3 in /usr/local/lib/python3.10/dist-packages (from huggingface-hub<1.0,>=0.14.1->transformers) (4.5.0)\n",
            "Requirement already satisfied: urllib3<1.27,>=1.21.1 in /usr/local/lib/python3.10/dist-packages (from requests->transformers) (1.26.15)\n",
            "Requirement already satisfied: certifi>=2017.4.17 in /usr/local/lib/python3.10/dist-packages (from requests->transformers) (2022.12.7)\n",
            "Requirement already satisfied: charset-normalizer~=2.0.0 in /usr/local/lib/python3.10/dist-packages (from requests->transformers) (2.0.12)\n",
            "Requirement already satisfied: idna<4,>=2.5 in /usr/local/lib/python3.10/dist-packages (from requests->transformers) (3.4)\n",
            "Installing collected packages: tokenizers, huggingface-hub, transformers\n",
            "Successfully installed huggingface-hub-0.14.1 tokenizers-0.13.3 transformers-4.29.2\n"
          ]
        }
      ]
    },
    {
      "cell_type": "markdown",
      "source": [
        "## Check if i have gpu on machone to use."
      ],
      "metadata": {
        "id": "ZECR4uh_c_yp"
      }
    },
    {
      "cell_type": "code",
      "source": [
        "import torch\n",
        "\n",
        "device = torch.device(\"cuda:0\" if torch.cuda.is_available() else \"cpu\")\n",
        "print(device)"
      ],
      "metadata": {
        "colab": {
          "base_uri": "https://localhost:8080/"
        },
        "id": "-bMr1YJxcYRx",
        "outputId": "cf7a59a3-f3b6-4bbe-a13a-769e0816077c"
      },
      "execution_count": 2,
      "outputs": [
        {
          "output_type": "stream",
          "name": "stdout",
          "text": [
            "cpu\n"
          ]
        }
      ]
    },
    {
      "cell_type": "markdown",
      "source": [
        "# 1. Loading the dataset "
      ],
      "metadata": {
        "id": "sHzKfEkccyhK"
      }
    },
    {
      "cell_type": "markdown",
      "source": [
        "## 1.1 Loading the Depandancies"
      ],
      "metadata": {
        "id": "XY9Bmru0dMS4"
      }
    },
    {
      "cell_type": "markdown",
      "source": [
        "* These are all the libraries and modules we will use for the program"
      ],
      "metadata": {
        "id": "f3Q7p0RwbGb-"
      }
    },
    {
      "cell_type": "code",
      "source": [
        "import pandas as pd\n",
        "import numpy as np\n"
      ],
      "metadata": {
        "id": "RnENVy9Ag1vj"
      },
      "execution_count": 28,
      "outputs": []
    },
    {
      "cell_type": "code",
      "source": [
        "!wget https://raw.githubusercontent.com/mrdbourke/tensorflow-deep-learning/main/extras/helper_functions.py"
      ],
      "metadata": {
        "colab": {
          "base_uri": "https://localhost:8080/"
        },
        "id": "0XV0M4476j62",
        "outputId": "0aab68c2-cc21-447c-851d-7c5cb65bd1dc"
      },
      "execution_count": 4,
      "outputs": [
        {
          "output_type": "stream",
          "name": "stdout",
          "text": [
            "--2023-05-25 12:37:43--  https://raw.githubusercontent.com/mrdbourke/tensorflow-deep-learning/main/extras/helper_functions.py\n",
            "Resolving raw.githubusercontent.com (raw.githubusercontent.com)... 185.199.108.133, 185.199.109.133, 185.199.110.133, ...\n",
            "Connecting to raw.githubusercontent.com (raw.githubusercontent.com)|185.199.108.133|:443... connected.\n",
            "HTTP request sent, awaiting response... 200 OK\n",
            "Length: 10246 (10K) [text/plain]\n",
            "Saving to: ‘helper_functions.py’\n",
            "\n",
            "\rhelper_functions.py   0%[                    ]       0  --.-KB/s               \rhelper_functions.py 100%[===================>]  10.01K  --.-KB/s    in 0s      \n",
            "\n",
            "2023-05-25 12:37:44 (96.0 MB/s) - ‘helper_functions.py’ saved [10246/10246]\n",
            "\n"
          ]
        }
      ]
    },
    {
      "cell_type": "code",
      "source": [
        "#here we will be coding a feature based , or working on the feature based model and understanding its accuracy with respect to our dataset\n",
        "from helper_functions import unzip_data, calculate_results\n",
        "unzip_data('/content/train_test.zip')"
      ],
      "metadata": {
        "id": "PSPIeTo96L6f"
      },
      "execution_count": 5,
      "outputs": []
    },
    {
      "cell_type": "code",
      "source": [
        "#Importing the datasets\n",
        "import pandas as pd\n",
        "df_train = pd.read_csv('/content/train.csv')\n",
        "df_test = pd.read_csv('/content/test.csv')"
      ],
      "metadata": {
        "id": "RfaUTuRy6aeR"
      },
      "execution_count": 9,
      "outputs": []
    },
    {
      "cell_type": "code",
      "source": [
        "print('Train: ',df_train.shape)\n",
        "print('Test: ', df_test.shape)"
      ],
      "metadata": {
        "colab": {
          "base_uri": "https://localhost:8080/"
        },
        "id": "UkIGq7Dv6xhA",
        "outputId": "c6cf5c33-2222-4708-a8e6-764551fbe031"
      },
      "execution_count": 11,
      "outputs": [
        {
          "output_type": "stream",
          "name": "stdout",
          "text": [
            "Train:  (814, 6)\n",
            "Test:  (204, 6)\n"
          ]
        }
      ]
    },
    {
      "cell_type": "markdown",
      "source": [
        "## 1.2 Inspecting the data"
      ],
      "metadata": {
        "id": "_EwDt5gndsCc"
      }
    },
    {
      "cell_type": "markdown",
      "source": [
        "### 1.2.1 The train data "
      ],
      "metadata": {
        "id": "22KscYkld8va"
      }
    },
    {
      "cell_type": "code",
      "source": [
        "df_train.head(5)"
      ],
      "metadata": {
        "colab": {
          "base_uri": "https://localhost:8080/",
          "height": 206
        },
        "id": "VQsi7CCSeCHw",
        "outputId": "21b75aaf-059a-467d-bf6b-633a08a6f29a"
      },
      "execution_count": 29,
      "outputs": [
        {
          "output_type": "execute_result",
          "data": {
            "text/plain": [
              "   Unnamed: 0                                          sentences  \\\n",
              "0           0  “Brands that optimized their eGift and gift ca...   \n",
              "1           1   This is a huge win for retailers, as gift car...   \n",
              "2           4   This is a huge win for retailers, as gift car...   \n",
              "3           5           by[E1] Esther Shein[/E1] in [E2]CXO[/E2]   \n",
              "4           6  COVID-19 has forced many organizations to rein...   \n",
              "\n",
              "              Subject             Object   relations  relations_id  \n",
              "0    Theresa McEndree  Blackhawk Network   managerOf             0  \n",
              "1   Theresa McEndree,  Blackhawk Network   managerOf             0  \n",
              "2    Theresa McEndree  Blackhawk Network  employedBy             2  \n",
              "3        Esther Shein                CXO  employedBy             2  \n",
              "4  Claudia Crummenerl   Capgemini Invent   managerOf             0  "
            ],
            "text/html": [
              "\n",
              "  <div id=\"df-9a84b9d1-4bcf-4bc9-a440-3cdee7fdd84e\">\n",
              "    <div class=\"colab-df-container\">\n",
              "      <div>\n",
              "<style scoped>\n",
              "    .dataframe tbody tr th:only-of-type {\n",
              "        vertical-align: middle;\n",
              "    }\n",
              "\n",
              "    .dataframe tbody tr th {\n",
              "        vertical-align: top;\n",
              "    }\n",
              "\n",
              "    .dataframe thead th {\n",
              "        text-align: right;\n",
              "    }\n",
              "</style>\n",
              "<table border=\"1\" class=\"dataframe\">\n",
              "  <thead>\n",
              "    <tr style=\"text-align: right;\">\n",
              "      <th></th>\n",
              "      <th>Unnamed: 0</th>\n",
              "      <th>sentences</th>\n",
              "      <th>Subject</th>\n",
              "      <th>Object</th>\n",
              "      <th>relations</th>\n",
              "      <th>relations_id</th>\n",
              "    </tr>\n",
              "  </thead>\n",
              "  <tbody>\n",
              "    <tr>\n",
              "      <th>0</th>\n",
              "      <td>0</td>\n",
              "      <td>“Brands that optimized their eGift and gift ca...</td>\n",
              "      <td>Theresa McEndree</td>\n",
              "      <td>Blackhawk Network</td>\n",
              "      <td>managerOf</td>\n",
              "      <td>0</td>\n",
              "    </tr>\n",
              "    <tr>\n",
              "      <th>1</th>\n",
              "      <td>1</td>\n",
              "      <td>This is a huge win for retailers, as gift car...</td>\n",
              "      <td>Theresa McEndree,</td>\n",
              "      <td>Blackhawk Network</td>\n",
              "      <td>managerOf</td>\n",
              "      <td>0</td>\n",
              "    </tr>\n",
              "    <tr>\n",
              "      <th>2</th>\n",
              "      <td>4</td>\n",
              "      <td>This is a huge win for retailers, as gift car...</td>\n",
              "      <td>Theresa McEndree</td>\n",
              "      <td>Blackhawk Network</td>\n",
              "      <td>employedBy</td>\n",
              "      <td>2</td>\n",
              "    </tr>\n",
              "    <tr>\n",
              "      <th>3</th>\n",
              "      <td>5</td>\n",
              "      <td>by[E1] Esther Shein[/E1] in [E2]CXO[/E2]</td>\n",
              "      <td>Esther Shein</td>\n",
              "      <td>CXO</td>\n",
              "      <td>employedBy</td>\n",
              "      <td>2</td>\n",
              "    </tr>\n",
              "    <tr>\n",
              "      <th>4</th>\n",
              "      <td>6</td>\n",
              "      <td>COVID-19 has forced many organizations to rein...</td>\n",
              "      <td>Claudia Crummenerl</td>\n",
              "      <td>Capgemini Invent</td>\n",
              "      <td>managerOf</td>\n",
              "      <td>0</td>\n",
              "    </tr>\n",
              "  </tbody>\n",
              "</table>\n",
              "</div>\n",
              "      <button class=\"colab-df-convert\" onclick=\"convertToInteractive('df-9a84b9d1-4bcf-4bc9-a440-3cdee7fdd84e')\"\n",
              "              title=\"Convert this dataframe to an interactive table.\"\n",
              "              style=\"display:none;\">\n",
              "        \n",
              "  <svg xmlns=\"http://www.w3.org/2000/svg\" height=\"24px\"viewBox=\"0 0 24 24\"\n",
              "       width=\"24px\">\n",
              "    <path d=\"M0 0h24v24H0V0z\" fill=\"none\"/>\n",
              "    <path d=\"M18.56 5.44l.94 2.06.94-2.06 2.06-.94-2.06-.94-.94-2.06-.94 2.06-2.06.94zm-11 1L8.5 8.5l.94-2.06 2.06-.94-2.06-.94L8.5 2.5l-.94 2.06-2.06.94zm10 10l.94 2.06.94-2.06 2.06-.94-2.06-.94-.94-2.06-.94 2.06-2.06.94z\"/><path d=\"M17.41 7.96l-1.37-1.37c-.4-.4-.92-.59-1.43-.59-.52 0-1.04.2-1.43.59L10.3 9.45l-7.72 7.72c-.78.78-.78 2.05 0 2.83L4 21.41c.39.39.9.59 1.41.59.51 0 1.02-.2 1.41-.59l7.78-7.78 2.81-2.81c.8-.78.8-2.07 0-2.86zM5.41 20L4 18.59l7.72-7.72 1.47 1.35L5.41 20z\"/>\n",
              "  </svg>\n",
              "      </button>\n",
              "      \n",
              "  <style>\n",
              "    .colab-df-container {\n",
              "      display:flex;\n",
              "      flex-wrap:wrap;\n",
              "      gap: 12px;\n",
              "    }\n",
              "\n",
              "    .colab-df-convert {\n",
              "      background-color: #E8F0FE;\n",
              "      border: none;\n",
              "      border-radius: 50%;\n",
              "      cursor: pointer;\n",
              "      display: none;\n",
              "      fill: #1967D2;\n",
              "      height: 32px;\n",
              "      padding: 0 0 0 0;\n",
              "      width: 32px;\n",
              "    }\n",
              "\n",
              "    .colab-df-convert:hover {\n",
              "      background-color: #E2EBFA;\n",
              "      box-shadow: 0px 1px 2px rgba(60, 64, 67, 0.3), 0px 1px 3px 1px rgba(60, 64, 67, 0.15);\n",
              "      fill: #174EA6;\n",
              "    }\n",
              "\n",
              "    [theme=dark] .colab-df-convert {\n",
              "      background-color: #3B4455;\n",
              "      fill: #D2E3FC;\n",
              "    }\n",
              "\n",
              "    [theme=dark] .colab-df-convert:hover {\n",
              "      background-color: #434B5C;\n",
              "      box-shadow: 0px 1px 3px 1px rgba(0, 0, 0, 0.15);\n",
              "      filter: drop-shadow(0px 1px 2px rgba(0, 0, 0, 0.3));\n",
              "      fill: #FFFFFF;\n",
              "    }\n",
              "  </style>\n",
              "\n",
              "      <script>\n",
              "        const buttonEl =\n",
              "          document.querySelector('#df-9a84b9d1-4bcf-4bc9-a440-3cdee7fdd84e button.colab-df-convert');\n",
              "        buttonEl.style.display =\n",
              "          google.colab.kernel.accessAllowed ? 'block' : 'none';\n",
              "\n",
              "        async function convertToInteractive(key) {\n",
              "          const element = document.querySelector('#df-9a84b9d1-4bcf-4bc9-a440-3cdee7fdd84e');\n",
              "          const dataTable =\n",
              "            await google.colab.kernel.invokeFunction('convertToInteractive',\n",
              "                                                     [key], {});\n",
              "          if (!dataTable) return;\n",
              "\n",
              "          const docLinkHtml = 'Like what you see? Visit the ' +\n",
              "            '<a target=\"_blank\" href=https://colab.research.google.com/notebooks/data_table.ipynb>data table notebook</a>'\n",
              "            + ' to learn more about interactive tables.';\n",
              "          element.innerHTML = '';\n",
              "          dataTable['output_type'] = 'display_data';\n",
              "          await google.colab.output.renderOutput(dataTable, element);\n",
              "          const docLink = document.createElement('div');\n",
              "          docLink.innerHTML = docLinkHtml;\n",
              "          element.appendChild(docLink);\n",
              "        }\n",
              "      </script>\n",
              "    </div>\n",
              "  </div>\n",
              "  "
            ]
          },
          "metadata": {},
          "execution_count": 29
        }
      ]
    },
    {
      "cell_type": "code",
      "source": [
        "df_train['sentences'][0]"
      ],
      "metadata": {
        "colab": {
          "base_uri": "https://localhost:8080/",
          "height": 105
        },
        "id": "ct81i4WZ7IPz",
        "outputId": "766b411c-81f7-45e2-bb9e-3b593f6283a1"
      },
      "execution_count": 8,
      "outputs": [
        {
          "output_type": "execute_result",
          "data": {
            "text/plain": [
              "'“Brands that optimized their eGift and gift card eCommerce experience won this holiday season. As consumer behavior continued the rapid, digital migration, gift card programs are no exception. This is a huge win for retailers, as gift card recipients show up ready and excited to use them,” said [E1]Theresa McEndree[/E1], global head of marketing and corporate brand, [E2]Blackhawk Network[/E2]. “Digital adoption will continue and is here to stay. This stream of digital shoppers will benefit retail sales in the first quarter of the year. Nearly half of consumers surveyed expect to spend at least $25 more than the value of their gift cards—and many plan to spend them within the first few months following the holiday season.”'"
            ],
            "application/vnd.google.colaboratory.intrinsic+json": {
              "type": "string"
            }
          },
          "metadata": {},
          "execution_count": 8
        }
      ]
    },
    {
      "cell_type": "markdown",
      "source": [
        "### 1.2.2 The test data "
      ],
      "metadata": {
        "id": "QZnoPHB7eKrR"
      }
    },
    {
      "cell_type": "code",
      "source": [
        "df_test.head(5)"
      ],
      "metadata": {
        "colab": {
          "base_uri": "https://localhost:8080/",
          "height": 206
        },
        "id": "WoDsnsJKeOid",
        "outputId": "9b6e197c-9ce0-4bc1-fe9a-1717df17390e"
      },
      "execution_count": 31,
      "outputs": [
        {
          "output_type": "execute_result",
          "data": {
            "text/plain": [
              "   Unnamed: 0                                          sentences  \\\n",
              "0         336  SurveyMonkey is used to collect critical data ...   \n",
              "1         163  [E1]Paul Burrin[/E1] is VP Product at [E2]Sage...   \n",
              "2         551  [E1]DeepL[/E1] is based in [E2]Germany[/E2] an...   \n",
              "3         379  “We have dozens of languages to support but Lu...   \n",
              "4         339  [E1]SurveyMonkey[/E1] thinks it will benefit c...   \n",
              "\n",
              "        Subject       Object   relations  relations_id  \n",
              "0  SurveyMonkey        Lurie  noRelation             3  \n",
              "1   Paul Burrin  Sage People   managerOf             0  \n",
              "2         DeepL      Germany   locatedAt             1  \n",
              "3  SurveyMonkey        Lurie  noRelation             3  \n",
              "4  SurveyMonkey        Lurie  noRelation             3  "
            ],
            "text/html": [
              "\n",
              "  <div id=\"df-2d736a1a-7ee2-4f17-91c5-40770bbc9301\">\n",
              "    <div class=\"colab-df-container\">\n",
              "      <div>\n",
              "<style scoped>\n",
              "    .dataframe tbody tr th:only-of-type {\n",
              "        vertical-align: middle;\n",
              "    }\n",
              "\n",
              "    .dataframe tbody tr th {\n",
              "        vertical-align: top;\n",
              "    }\n",
              "\n",
              "    .dataframe thead th {\n",
              "        text-align: right;\n",
              "    }\n",
              "</style>\n",
              "<table border=\"1\" class=\"dataframe\">\n",
              "  <thead>\n",
              "    <tr style=\"text-align: right;\">\n",
              "      <th></th>\n",
              "      <th>Unnamed: 0</th>\n",
              "      <th>sentences</th>\n",
              "      <th>Subject</th>\n",
              "      <th>Object</th>\n",
              "      <th>relations</th>\n",
              "      <th>relations_id</th>\n",
              "    </tr>\n",
              "  </thead>\n",
              "  <tbody>\n",
              "    <tr>\n",
              "      <th>0</th>\n",
              "      <td>336</td>\n",
              "      <td>SurveyMonkey is used to collect critical data ...</td>\n",
              "      <td>SurveyMonkey</td>\n",
              "      <td>Lurie</td>\n",
              "      <td>noRelation</td>\n",
              "      <td>3</td>\n",
              "    </tr>\n",
              "    <tr>\n",
              "      <th>1</th>\n",
              "      <td>163</td>\n",
              "      <td>[E1]Paul Burrin[/E1] is VP Product at [E2]Sage...</td>\n",
              "      <td>Paul Burrin</td>\n",
              "      <td>Sage People</td>\n",
              "      <td>managerOf</td>\n",
              "      <td>0</td>\n",
              "    </tr>\n",
              "    <tr>\n",
              "      <th>2</th>\n",
              "      <td>551</td>\n",
              "      <td>[E1]DeepL[/E1] is based in [E2]Germany[/E2] an...</td>\n",
              "      <td>DeepL</td>\n",
              "      <td>Germany</td>\n",
              "      <td>locatedAt</td>\n",
              "      <td>1</td>\n",
              "    </tr>\n",
              "    <tr>\n",
              "      <th>3</th>\n",
              "      <td>379</td>\n",
              "      <td>“We have dozens of languages to support but Lu...</td>\n",
              "      <td>SurveyMonkey</td>\n",
              "      <td>Lurie</td>\n",
              "      <td>noRelation</td>\n",
              "      <td>3</td>\n",
              "    </tr>\n",
              "    <tr>\n",
              "      <th>4</th>\n",
              "      <td>339</td>\n",
              "      <td>[E1]SurveyMonkey[/E1] thinks it will benefit c...</td>\n",
              "      <td>SurveyMonkey</td>\n",
              "      <td>Lurie</td>\n",
              "      <td>noRelation</td>\n",
              "      <td>3</td>\n",
              "    </tr>\n",
              "  </tbody>\n",
              "</table>\n",
              "</div>\n",
              "      <button class=\"colab-df-convert\" onclick=\"convertToInteractive('df-2d736a1a-7ee2-4f17-91c5-40770bbc9301')\"\n",
              "              title=\"Convert this dataframe to an interactive table.\"\n",
              "              style=\"display:none;\">\n",
              "        \n",
              "  <svg xmlns=\"http://www.w3.org/2000/svg\" height=\"24px\"viewBox=\"0 0 24 24\"\n",
              "       width=\"24px\">\n",
              "    <path d=\"M0 0h24v24H0V0z\" fill=\"none\"/>\n",
              "    <path d=\"M18.56 5.44l.94 2.06.94-2.06 2.06-.94-2.06-.94-.94-2.06-.94 2.06-2.06.94zm-11 1L8.5 8.5l.94-2.06 2.06-.94-2.06-.94L8.5 2.5l-.94 2.06-2.06.94zm10 10l.94 2.06.94-2.06 2.06-.94-2.06-.94-.94-2.06-.94 2.06-2.06.94z\"/><path d=\"M17.41 7.96l-1.37-1.37c-.4-.4-.92-.59-1.43-.59-.52 0-1.04.2-1.43.59L10.3 9.45l-7.72 7.72c-.78.78-.78 2.05 0 2.83L4 21.41c.39.39.9.59 1.41.59.51 0 1.02-.2 1.41-.59l7.78-7.78 2.81-2.81c.8-.78.8-2.07 0-2.86zM5.41 20L4 18.59l7.72-7.72 1.47 1.35L5.41 20z\"/>\n",
              "  </svg>\n",
              "      </button>\n",
              "      \n",
              "  <style>\n",
              "    .colab-df-container {\n",
              "      display:flex;\n",
              "      flex-wrap:wrap;\n",
              "      gap: 12px;\n",
              "    }\n",
              "\n",
              "    .colab-df-convert {\n",
              "      background-color: #E8F0FE;\n",
              "      border: none;\n",
              "      border-radius: 50%;\n",
              "      cursor: pointer;\n",
              "      display: none;\n",
              "      fill: #1967D2;\n",
              "      height: 32px;\n",
              "      padding: 0 0 0 0;\n",
              "      width: 32px;\n",
              "    }\n",
              "\n",
              "    .colab-df-convert:hover {\n",
              "      background-color: #E2EBFA;\n",
              "      box-shadow: 0px 1px 2px rgba(60, 64, 67, 0.3), 0px 1px 3px 1px rgba(60, 64, 67, 0.15);\n",
              "      fill: #174EA6;\n",
              "    }\n",
              "\n",
              "    [theme=dark] .colab-df-convert {\n",
              "      background-color: #3B4455;\n",
              "      fill: #D2E3FC;\n",
              "    }\n",
              "\n",
              "    [theme=dark] .colab-df-convert:hover {\n",
              "      background-color: #434B5C;\n",
              "      box-shadow: 0px 1px 3px 1px rgba(0, 0, 0, 0.15);\n",
              "      filter: drop-shadow(0px 1px 2px rgba(0, 0, 0, 0.3));\n",
              "      fill: #FFFFFF;\n",
              "    }\n",
              "  </style>\n",
              "\n",
              "      <script>\n",
              "        const buttonEl =\n",
              "          document.querySelector('#df-2d736a1a-7ee2-4f17-91c5-40770bbc9301 button.colab-df-convert');\n",
              "        buttonEl.style.display =\n",
              "          google.colab.kernel.accessAllowed ? 'block' : 'none';\n",
              "\n",
              "        async function convertToInteractive(key) {\n",
              "          const element = document.querySelector('#df-2d736a1a-7ee2-4f17-91c5-40770bbc9301');\n",
              "          const dataTable =\n",
              "            await google.colab.kernel.invokeFunction('convertToInteractive',\n",
              "                                                     [key], {});\n",
              "          if (!dataTable) return;\n",
              "\n",
              "          const docLinkHtml = 'Like what you see? Visit the ' +\n",
              "            '<a target=\"_blank\" href=https://colab.research.google.com/notebooks/data_table.ipynb>data table notebook</a>'\n",
              "            + ' to learn more about interactive tables.';\n",
              "          element.innerHTML = '';\n",
              "          dataTable['output_type'] = 'display_data';\n",
              "          await google.colab.output.renderOutput(dataTable, element);\n",
              "          const docLink = document.createElement('div');\n",
              "          docLink.innerHTML = docLinkHtml;\n",
              "          element.appendChild(docLink);\n",
              "        }\n",
              "      </script>\n",
              "    </div>\n",
              "  </div>\n",
              "  "
            ]
          },
          "metadata": {},
          "execution_count": 31
        }
      ]
    },
    {
      "cell_type": "code",
      "source": [
        "df_test['sentences'][0]"
      ],
      "metadata": {
        "colab": {
          "base_uri": "https://localhost:8080/",
          "height": 53
        },
        "id": "7F4iCGig74sh",
        "outputId": "d7f05879-0875-4078-d97c-8cd481cb883a"
      },
      "execution_count": 12,
      "outputs": [
        {
          "output_type": "execute_result",
          "data": {
            "text/plain": [
              "'SurveyMonkey is used to collect critical data and [E1]SurveyMonkey[/E1] has evolved so that SurveyMonkey can help them analyse and do something with it in different ways,[E2]Lurie[/E2] adds.'"
            ],
            "application/vnd.google.colaboratory.intrinsic+json": {
              "type": "string"
            }
          },
          "metadata": {},
          "execution_count": 12
        }
      ]
    },
    {
      "cell_type": "markdown",
      "source": [
        "# 2. Visualization"
      ],
      "metadata": {
        "id": "cnRb4Mu4eYbm"
      }
    },
    {
      "cell_type": "markdown",
      "source": [
        "# 3. Tokenization"
      ],
      "metadata": {
        "id": "3MuOE5FTA9fg"
      }
    },
    {
      "cell_type": "markdown",
      "source": [
        "* This is the process of taking the input and breaking it down to token to extract patterns. (puts the words into number the model can understand)\n",
        "\n",
        "Steps:~\n",
        "\n",
        "* To achieve this we will first take our input and convert it to a list. Given the tokenizer a list of inputs."
      ],
      "metadata": {
        "id": "b6MI8AkQeg4W"
      }
    },
    {
      "cell_type": "code",
      "source": [
        "train_sentence = df_train['sentences']\n",
        "train_sentence = list(train_sentence)"
      ],
      "metadata": {
        "id": "Eua-to45fD6x"
      },
      "execution_count": 32,
      "outputs": []
    },
    {
      "cell_type": "code",
      "source": [
        "from transformers import AutoTokenizer, AutoModelForSequenceClassification\n",
        "\n",
        "\n",
        "model_name = \"distilbert-base-uncased-finetuned-sst-2-english\"\n",
        "model=AutoModelForSequenceClassification.from_pretrained(model_name)\n",
        "tokenizer = AutoTokenizer.from_pretrained(model_name)\n",
        "\n"
      ],
      "metadata": {
        "colab": {
          "base_uri": "https://localhost:8080/",
          "height": 257,
          "referenced_widgets": [
            "4e865ea8d4214a6b9cc0ebeea94cc513",
            "3495bcf23262428398de7fa6e78be801",
            "cb505f0ebb2547e2bbdbf23d9b3e8404",
            "dffd924aae16459e94bbcb83cc460b0e",
            "f3b5075cbc7e49e399cb28917a77f42a",
            "5a647f6178114cdda916be3105fad696",
            "c56b404393df472abbf68b25a7c41d2f",
            "a98d4cfe06434ee0ad40a48526d26934",
            "14d8cbb67ec045cd9f57166bea8782c5",
            "0ee2182b74eb4aa2ac909bb4ceb2a4bf",
            "fbc1039bb43f46018cf3530496d62957",
            "ba0e4fe7ab3244c18754477494facdad",
            "4d1cf832e49a4c8fb8aaf3860a997f97",
            "b6c83f1586064244b87e85202abb3fe8",
            "d5c2dee5fcdb4acabb060d30dfa45831",
            "c7472b2978ea434eabe9a8aedeaa92a0",
            "d169af67458549f09a702bf1dfec11fb",
            "1850911f58054097b72759c26ead8fae",
            "0c0f51ec32f8410c8537f1d1dcf70c38",
            "d93b1137d2b84065b943fb833cbc87ca",
            "3b1f111235b843d38e5b5f420ddfc044",
            "2496d6bf1d7b45acae19fc2e73a6853a",
            "1adb33f103d64a639a809bc076168d1f",
            "aa78fafbcfe54b429e657ac739f617d6",
            "abcfe81a8702433eaf5ea92853308a1c",
            "3264809fed194d0eafdb7b19a1fe2b07",
            "60b58d0cb78a4bf9bf3aeb0ef81d7546",
            "2fae71d209774873ac221980d61b3700",
            "2f7d78827a864f638e4adf65e5ee1cf2",
            "0e94f1e3f6c1498ab9ed29190d11b93d",
            "80726ec355a14cb5ad7187fe7528dae6",
            "6bd26eb806a44abc80c86dc6dce9afbb",
            "42648b8dfa204040b3b5e1ba33aee876",
            "cf8b9c4c0e1b41ee807e1fa3d1d9fb95",
            "89cafd66dc2f49eba1d55d3341664c29",
            "4d7bb940f7c24a3b9400c6ef2586ab47",
            "c293e443a57a466e932650621108335b",
            "c0cdb88d85af48bbaa9d06a3128df1db",
            "eb7841bffa25444aaf801f6e551aef0d",
            "2a42e759475b45fb825c020f06769ff9",
            "fa4d3366c2034ae8b8e2d3b97d7c3fc2",
            "3679291720394ed8add2e37ae3d262f6",
            "da0a0b6efa884c42977472e406773caf",
            "60cff0418433484998ff25c5bd2eadb0"
          ]
        },
        "id": "dLeEJRtEBOuj",
        "outputId": "fd7f201e-0a57-469d-bc48-f3d5d421b1e2"
      },
      "execution_count": 35,
      "outputs": [
        {
          "output_type": "display_data",
          "data": {
            "text/plain": [
              "Downloading (…)lve/main/config.json:   0%|          | 0.00/629 [00:00<?, ?B/s]"
            ],
            "application/vnd.jupyter.widget-view+json": {
              "version_major": 2,
              "version_minor": 0,
              "model_id": "4e865ea8d4214a6b9cc0ebeea94cc513"
            }
          },
          "metadata": {}
        },
        {
          "output_type": "display_data",
          "data": {
            "text/plain": [
              "Downloading pytorch_model.bin:   0%|          | 0.00/268M [00:00<?, ?B/s]"
            ],
            "application/vnd.jupyter.widget-view+json": {
              "version_major": 2,
              "version_minor": 0,
              "model_id": "ba0e4fe7ab3244c18754477494facdad"
            }
          },
          "metadata": {}
        },
        {
          "output_type": "display_data",
          "data": {
            "text/plain": [
              "Downloading (…)okenizer_config.json:   0%|          | 0.00/48.0 [00:00<?, ?B/s]"
            ],
            "application/vnd.jupyter.widget-view+json": {
              "version_major": 2,
              "version_minor": 0,
              "model_id": "1adb33f103d64a639a809bc076168d1f"
            }
          },
          "metadata": {}
        },
        {
          "output_type": "display_data",
          "data": {
            "text/plain": [
              "Downloading (…)solve/main/vocab.txt:   0%|          | 0.00/232k [00:00<?, ?B/s]"
            ],
            "application/vnd.jupyter.widget-view+json": {
              "version_major": 2,
              "version_minor": 0,
              "model_id": "cf8b9c4c0e1b41ee807e1fa3d1d9fb95"
            }
          },
          "metadata": {}
        }
      ]
    },
    {
      "cell_type": "markdown",
      "source": [
        "* Gettting the data to tokenize from the train data."
      ],
      "metadata": {
        "id": "eYi4KZV_2bQO"
      }
    },
    {
      "cell_type": "code",
      "source": [
        "train_sentence = df_train['sentences']\n",
        "train_sentence = list(train_sentence)"
      ],
      "metadata": {
        "id": "T7zJTKKKCnyp"
      },
      "execution_count": 18,
      "outputs": []
    },
    {
      "cell_type": "code",
      "source": [
        "train_sentence[0]"
      ],
      "metadata": {
        "colab": {
          "base_uri": "https://localhost:8080/",
          "height": 192
        },
        "id": "NzwgJc9QEHdH",
        "outputId": "6898c74e-62b5-4cb4-a683-a37049fc10c5"
      },
      "execution_count": 23,
      "outputs": [
        {
          "output_type": "execute_result",
          "data": {
            "text/plain": [
              "'“Brands that optimized their eGift and gift card eCommerce experience won this holiday season. As consumer behavior continued the rapid, digital migration, gift card programs are no exception. This is a huge win for retailers, as gift card recipients show up ready and excited to use them,” said [E1]Theresa McEndree[/E1], global head of marketing and corporate brand, [E2]Blackhawk Network[/E2]. “Digital adoption will continue and is here to stay. This stream of digital shoppers will benefit retail sales in the first quarter of the year. Nearly half of consumers surveyed expect to spend at least $25 more than the value of their gift cards—and many plan to spend them within the first few months following the holiday season.”'"
            ],
            "application/vnd.google.colaboratory.intrinsic+json": {
              "type": "string"
            }
          },
          "metadata": {},
          "execution_count": 23
        }
      ]
    },
    {
      "cell_type": "code",
      "source": [
        "batch = tokenizer(train_sentence, padding=True, truncation=True, max_length=512, return_tensors=\"pt\")\n",
        "\n",
        "\n",
        "print(batch)"
      ],
      "metadata": {
        "colab": {
          "base_uri": "https://localhost:8080/"
        },
        "id": "Awv1c0X27BfA",
        "outputId": "2d990628-b2ba-4b06-f4ea-8c1d3463c34c"
      },
      "execution_count": 38,
      "outputs": [
        {
          "output_type": "stream",
          "name": "stdout",
          "text": [
            "{'input_ids': tensor([[ 101, 1523, 9639,  ...,    0,    0,    0],\n",
            "        [ 101, 2023, 2003,  ...,    0,    0,    0],\n",
            "        [ 101, 2023, 2003,  ...,    0,    0,    0],\n",
            "        ...,\n",
            "        [ 101, 1523, 2057,  ...,    0,    0,    0],\n",
            "        [ 101, 1523, 2057,  ...,    0,    0,    0],\n",
            "        [ 101, 1523, 2023,  ...,    0,    0,    0]]), 'attention_mask': tensor([[1, 1, 1,  ..., 0, 0, 0],\n",
            "        [1, 1, 1,  ..., 0, 0, 0],\n",
            "        [1, 1, 1,  ..., 0, 0, 0],\n",
            "        ...,\n",
            "        [1, 1, 1,  ..., 0, 0, 0],\n",
            "        [1, 1, 1,  ..., 0, 0, 0],\n",
            "        [1, 1, 1,  ..., 0, 0, 0]])}\n"
          ]
        }
      ]
    },
    {
      "cell_type": "code",
      "source": [
        "batch['input_ids'].shape"
      ],
      "metadata": {
        "colab": {
          "base_uri": "https://localhost:8080/"
        },
        "id": "vt0BeLRh7x3T",
        "outputId": "d8231353-e874-43fc-fa18-7d3dfc6a3f0d"
      },
      "execution_count": 41,
      "outputs": [
        {
          "output_type": "execute_result",
          "data": {
            "text/plain": [
              "torch.Size([814, 215])"
            ]
          },
          "metadata": {},
          "execution_count": 41
        }
      ]
    },
    {
      "cell_type": "code",
      "source": [
        "import torch\n",
        "import torch.nn.functional as F"
      ],
      "metadata": {
        "id": "yPdjruvv5uNe"
      },
      "execution_count": 39,
      "outputs": []
    },
    {
      "cell_type": "code",
      "source": [
        "with torch.no_grad():\n",
        "  outputs = model(**batch)\n",
        "  print(outputs)\n",
        "  predictions = F.softmax(outputs.logits, dim=1)\n",
        "  print(predictions)\n",
        "  labels=torch.argmax(predictions, dim=1)\n",
        "  print(labels)"
      ],
      "metadata": {
        "colab": {
          "base_uri": "https://localhost:8080/"
        },
        "id": "AC5xNuOH7m4Z",
        "outputId": "701456c8-252d-4f1d-dc31-dd962e23d0de"
      },
      "execution_count": 43,
      "outputs": [
        {
          "output_type": "stream",
          "name": "stdout",
          "text": [
            "SequenceClassifierOutput(loss=None, logits=tensor([[-3.5882,  3.7910],\n",
            "        [-3.5935,  3.7964],\n",
            "        [-3.6111,  3.8182],\n",
            "        ...,\n",
            "        [-3.6877,  3.9010],\n",
            "        [-3.6776,  3.8581],\n",
            "        [-3.1804,  3.3304]]), hidden_states=None, attentions=None)\n",
            "tensor([[6.2373e-04, 9.9938e-01],\n",
            "        [6.1712e-04, 9.9938e-01],\n",
            "        [5.9324e-04, 9.9941e-01],\n",
            "        ...,\n",
            "        [5.0590e-04, 9.9949e-01],\n",
            "        [5.3335e-04, 9.9947e-01],\n",
            "        [1.4851e-03, 9.9851e-01]])\n",
            "tensor([1, 1, 1, 0, 0, 1, 1, 0, 1, 1, 1, 0, 1, 1, 0, 0, 0, 0, 0, 1, 0, 1, 0, 1,\n",
            "        0, 1, 1, 0, 0, 0, 0, 1, 1, 0, 0, 0, 0, 0, 1, 0, 0, 0, 0, 0, 0, 0, 0, 0,\n",
            "        1, 1, 1, 0, 1, 0, 0, 1, 0, 1, 0, 0, 1, 0, 0, 0, 0, 1, 1, 1, 0, 1, 1, 1,\n",
            "        1, 1, 1, 1, 1, 1, 1, 1, 1, 1, 1, 1, 0, 1, 0, 0, 1, 1, 1, 1, 0, 1, 1, 0,\n",
            "        1, 0, 0, 0, 1, 1, 1, 1, 1, 1, 1, 1, 1, 0, 1, 1, 1, 1, 0, 0, 1, 1, 1, 1,\n",
            "        0, 1, 1, 1, 1, 1, 1, 1, 1, 1, 1, 0, 1, 1, 1, 1, 1, 1, 1, 1, 1, 1, 1, 1,\n",
            "        1, 1, 0, 0, 1, 1, 1, 0, 0, 0, 0, 0, 0, 1, 1, 1, 1, 0, 0, 0, 0, 0, 1, 1,\n",
            "        1, 1, 1, 1, 1, 1, 1, 1, 1, 0, 1, 1, 1, 1, 1, 1, 1, 1, 1, 0, 0, 0, 0, 0,\n",
            "        0, 1, 1, 1, 0, 0, 0, 0, 0, 1, 0, 0, 0, 0, 0, 0, 0, 0, 1, 1, 1, 1, 1, 1,\n",
            "        1, 1, 1, 1, 1, 1, 1, 1, 1, 1, 1, 1, 0, 0, 0, 0, 0, 0, 1, 0, 1, 1, 1, 1,\n",
            "        1, 1, 1, 1, 0, 1, 0, 0, 0, 1, 1, 1, 1, 1, 1, 1, 1, 1, 1, 1, 1, 1, 1, 0,\n",
            "        1, 1, 1, 0, 0, 0, 1, 1, 1, 0, 1, 1, 1, 1, 1, 0, 1, 1, 0, 0, 0, 1, 1, 1,\n",
            "        1, 1, 1, 1, 1, 1, 1, 1, 1, 1, 1, 1, 1, 0, 1, 1, 0, 0, 1, 1, 1, 1, 0, 1,\n",
            "        1, 1, 1, 1, 1, 0, 0, 0, 1, 0, 1, 0, 1, 0, 0, 1, 1, 1, 1, 1, 1, 0, 0, 0,\n",
            "        1, 1, 1, 0, 0, 0, 1, 0, 0, 0, 0, 0, 0, 0, 1, 1, 1, 0, 0, 0, 0, 0, 1, 1,\n",
            "        1, 1, 1, 1, 0, 0, 0, 0, 0, 0, 0, 0, 0, 0, 0, 0, 0, 0, 0, 0, 1, 1, 1, 1,\n",
            "        1, 1, 1, 1, 0, 0, 0, 0, 0, 1, 1, 1, 1, 1, 1, 1, 0, 0, 0, 1, 1, 1, 1, 1,\n",
            "        1, 1, 1, 1, 1, 1, 1, 1, 1, 1, 0, 1, 1, 1, 0, 1, 0, 0, 0, 1, 1, 1, 0, 1,\n",
            "        0, 0, 0, 1, 0, 1, 0, 1, 1, 1, 1, 1, 1, 1, 1, 1, 1, 1, 1, 1, 1, 1, 1, 1,\n",
            "        1, 1, 1, 1, 1, 1, 0, 1, 1, 1, 1, 1, 1, 1, 1, 1, 1, 1, 1, 1, 0, 0, 0, 1,\n",
            "        1, 1, 0, 1, 1, 0, 0, 0, 1, 1, 1, 1, 1, 1, 1, 0, 1, 1, 1, 1, 1, 1, 1, 1,\n",
            "        1, 1, 1, 1, 1, 1, 1, 1, 1, 1, 1, 1, 1, 1, 1, 1, 1, 0, 1, 1, 1, 1, 1, 1,\n",
            "        1, 1, 1, 1, 1, 1, 1, 1, 1, 0, 0, 0, 0, 0, 1, 0, 0, 0, 0, 0, 0, 0, 0, 0,\n",
            "        0, 0, 0, 0, 0, 0, 1, 1, 1, 0, 0, 1, 1, 1, 1, 1, 1, 1, 0, 0, 0, 0, 0, 0,\n",
            "        0, 0, 0, 0, 0, 0, 0, 0, 0, 0, 0, 0, 0, 0, 0, 1, 0, 0, 0, 1, 0, 1, 1, 1,\n",
            "        1, 1, 1, 1, 1, 1, 1, 1, 1, 1, 1, 1, 1, 1, 1, 1, 1, 1, 1, 1, 1, 1, 1, 1,\n",
            "        1, 1, 1, 1, 1, 1, 1, 1, 1, 1, 1, 1, 1, 1, 1, 1, 1, 1, 1, 1, 1, 1, 1, 1,\n",
            "        1, 1, 1, 1, 1, 1, 1, 1, 1, 1, 1, 1, 1, 1, 1, 1, 1, 1, 0, 0, 0, 0, 0, 0,\n",
            "        1, 1, 1, 1, 1, 1, 1, 1, 1, 1, 1, 1, 1, 1, 1, 1, 1, 1, 1, 1, 1, 1, 1, 0,\n",
            "        0, 0, 0, 0, 0, 0, 1, 1, 1, 0, 0, 0, 0, 0, 0, 1, 1, 1, 1, 1, 1, 1, 1, 1,\n",
            "        1, 1, 1, 0, 0, 1, 1, 0, 1, 0, 0, 0, 0, 0, 0, 0, 0, 0, 1, 1, 1, 1, 1, 1,\n",
            "        1, 1, 1, 1, 0, 1, 1, 1, 0, 1, 1, 0, 0, 0, 0, 0, 1, 1, 1, 0, 1, 1, 0, 0,\n",
            "        0, 1, 1, 0, 1, 1, 1, 1, 1, 1, 0, 0, 0, 0, 0, 1, 0, 1, 1, 1, 1, 0, 0, 1,\n",
            "        1, 0, 1, 1, 1, 1, 1, 1, 1, 1, 1, 1, 1, 1, 1, 1, 1, 1, 1, 1, 1, 1])\n"
          ]
        }
      ]
    },
    {
      "cell_type": "code",
      "source": [
        "input_ids = batch['input_ids']\n",
        "attention_mask =  batch['attention_mask']\n",
        "\n",
        "\n",
        "# Print the token IDs and attention mask\n",
        "print(\"Token IDs:\", input_ids)\n",
        "print(\"Attention Mask:\", attention_mask)"
      ],
      "metadata": {
        "colab": {
          "base_uri": "https://localhost:8080/"
        },
        "id": "mUscAxsIJPE5",
        "outputId": "251ee7c9-8bea-4938-a1e8-748f13f38b3b"
      },
      "execution_count": 51,
      "outputs": [
        {
          "output_type": "stream",
          "name": "stdout",
          "text": [
            "Token IDs: tensor([[ 101, 1523, 9639,  ...,    0,    0,    0],\n",
            "        [ 101, 2023, 2003,  ...,    0,    0,    0],\n",
            "        [ 101, 2023, 2003,  ...,    0,    0,    0],\n",
            "        ...,\n",
            "        [ 101, 1523, 2057,  ...,    0,    0,    0],\n",
            "        [ 101, 1523, 2057,  ...,    0,    0,    0],\n",
            "        [ 101, 1523, 2023,  ...,    0,    0,    0]])\n",
            "Attention Mask: tensor([[1, 1, 1,  ..., 0, 0, 0],\n",
            "        [1, 1, 1,  ..., 0, 0, 0],\n",
            "        [1, 1, 1,  ..., 0, 0, 0],\n",
            "        ...,\n",
            "        [1, 1, 1,  ..., 0, 0, 0],\n",
            "        [1, 1, 1,  ..., 0, 0, 0],\n",
            "        [1, 1, 1,  ..., 0, 0, 0]])\n"
          ]
        }
      ]
    },
    {
      "cell_type": "code",
      "source": [
        "# Print the token IDs and attention mask\n",
        "print(\"Token IDs:\", input_ids)"
      ],
      "metadata": {
        "colab": {
          "base_uri": "https://localhost:8080/"
        },
        "id": "8e5wB2YAJqqy",
        "outputId": "03288db8-9f9d-4ae9-dd0d-5b526fa456ac"
      },
      "execution_count": 48,
      "outputs": [
        {
          "output_type": "stream",
          "name": "stdout",
          "text": [
            "Token IDs: tensor([[ 101, 1523, 9639,  ...,    0,    0,    0],\n",
            "        [ 101, 2023, 2003,  ...,    0,    0,    0],\n",
            "        [ 101, 2023, 2003,  ...,    0,    0,    0],\n",
            "        ...,\n",
            "        [ 101, 1523, 2057,  ...,    0,    0,    0],\n",
            "        [ 101, 1523, 2057,  ...,    0,    0,    0],\n",
            "        [ 101, 1523, 2023,  ...,    0,    0,    0]])\n"
          ]
        }
      ]
    },
    {
      "cell_type": "code",
      "source": [
        "print(\"Attention Mask:\", attention_mask)"
      ],
      "metadata": {
        "colab": {
          "base_uri": "https://localhost:8080/"
        },
        "id": "bWjnqDdKJtGH",
        "outputId": "bf3fc869-ff23-4abd-b591-628af1f97eed"
      },
      "execution_count": 49,
      "outputs": [
        {
          "output_type": "stream",
          "name": "stdout",
          "text": [
            "Attention Mask: tensor([[1, 1, 1,  ..., 0, 0, 0],\n",
            "        [1, 1, 1,  ..., 0, 0, 0],\n",
            "        [1, 1, 1,  ..., 0, 0, 0],\n",
            "        ...,\n",
            "        [1, 1, 1,  ..., 0, 0, 0],\n",
            "        [1, 1, 1,  ..., 0, 0, 0],\n",
            "        [1, 1, 1,  ..., 0, 0, 0]])\n"
          ]
        }
      ]
    },
    {
      "cell_type": "code",
      "source": [
        "with torch.no_grad():\n",
        "  outputs = model(**batch)\n",
        "  logits = outputs.logits"
      ],
      "metadata": {
        "id": "6Txz4sEzNQvr"
      },
      "execution_count": 54,
      "outputs": []
    },
    {
      "cell_type": "code",
      "source": [
        "logits[0].shape"
      ],
      "metadata": {
        "colab": {
          "base_uri": "https://localhost:8080/"
        },
        "id": "58tSssh_Z1Le",
        "outputId": "7116c73b-aec9-46d2-919a-dcfd21f361e0"
      },
      "execution_count": 64,
      "outputs": [
        {
          "output_type": "execute_result",
          "data": {
            "text/plain": [
              "torch.Size([2])"
            ]
          },
          "metadata": {},
          "execution_count": 64
        }
      ]
    },
    {
      "cell_type": "code",
      "source": [
        "logits.shape"
      ],
      "metadata": {
        "colab": {
          "base_uri": "https://localhost:8080/"
        },
        "id": "v1EDXA05c-GP",
        "outputId": "89f7bc3f-eabb-4b2a-a0f9-703641a23318"
      },
      "execution_count": 65,
      "outputs": [
        {
          "output_type": "execute_result",
          "data": {
            "text/plain": [
              "torch.Size([814, 2])"
            ]
          },
          "metadata": {},
          "execution_count": 65
        }
      ]
    },
    {
      "cell_type": "code",
      "source": [
        "X= np.array(logits)"
      ],
      "metadata": {
        "id": "yMc45DPniTVY"
      },
      "execution_count": 70,
      "outputs": []
    },
    {
      "cell_type": "code",
      "source": [
        "X.shape"
      ],
      "metadata": {
        "colab": {
          "base_uri": "https://localhost:8080/"
        },
        "id": "9Ftu4DM0iecx",
        "outputId": "bbc0a6fc-ac5c-48f0-ab34-a19316b7f936"
      },
      "execution_count": 71,
      "outputs": [
        {
          "output_type": "execute_result",
          "data": {
            "text/plain": [
              "(814, 2)"
            ]
          },
          "metadata": {},
          "execution_count": 71
        }
      ]
    },
    {
      "cell_type": "code",
      "source": [
        "X_train = logits.numpy()"
      ],
      "metadata": {
        "id": "IlkWma7Te0sq"
      },
      "execution_count": 68,
      "outputs": []
    },
    {
      "cell_type": "code",
      "source": [
        "X_train.shape"
      ],
      "metadata": {
        "colab": {
          "base_uri": "https://localhost:8080/"
        },
        "id": "_YZ-FzTZhpit",
        "outputId": "df59aa1c-8bba-44cf-d43d-854b7b7a69bc"
      },
      "execution_count": 69,
      "outputs": [
        {
          "output_type": "execute_result",
          "data": {
            "text/plain": [
              "(814, 2)"
            ]
          },
          "metadata": {},
          "execution_count": 69
        }
      ]
    },
    {
      "cell_type": "code",
      "source": [
        "y_train = df_train['relations_id']"
      ],
      "metadata": {
        "id": "X_-LpEN3dbzy"
      },
      "execution_count": 72,
      "outputs": []
    },
    {
      "cell_type": "code",
      "source": [
        "y_train.shape"
      ],
      "metadata": {
        "colab": {
          "base_uri": "https://localhost:8080/"
        },
        "id": "15IK3CrEdeOz",
        "outputId": "a76ff303-9678-41d8-dced-8335aaf39fa0"
      },
      "execution_count": 73,
      "outputs": [
        {
          "output_type": "execute_result",
          "data": {
            "text/plain": [
              "(814,)"
            ]
          },
          "metadata": {},
          "execution_count": 73
        }
      ]
    },
    {
      "cell_type": "markdown",
      "source": [
        "# 4. Train Linear Model using the Embeddings from transformer\n"
      ],
      "metadata": {
        "id": "a7E8MoBY-uS9"
      }
    },
    {
      "cell_type": "code",
      "source": [
        "from sklearn.linear_model import LogisticRegression\n",
        "\n",
        "logreg = LogisticRegression() "
      ],
      "metadata": {
        "id": "bbEHWbnuY3RJ"
      },
      "execution_count": 74,
      "outputs": []
    },
    {
      "cell_type": "code",
      "source": [
        "logreg.fit(X_train, y_train) "
      ],
      "metadata": {
        "colab": {
          "base_uri": "https://localhost:8080/",
          "height": 75
        },
        "id": "z90qqqISeooQ",
        "outputId": "23d94282-71e7-4f2d-d666-85353e4b44ab"
      },
      "execution_count": 75,
      "outputs": [
        {
          "output_type": "execute_result",
          "data": {
            "text/plain": [
              "LogisticRegression()"
            ],
            "text/html": [
              "<style>#sk-container-id-2 {color: black;background-color: white;}#sk-container-id-2 pre{padding: 0;}#sk-container-id-2 div.sk-toggleable {background-color: white;}#sk-container-id-2 label.sk-toggleable__label {cursor: pointer;display: block;width: 100%;margin-bottom: 0;padding: 0.3em;box-sizing: border-box;text-align: center;}#sk-container-id-2 label.sk-toggleable__label-arrow:before {content: \"▸\";float: left;margin-right: 0.25em;color: #696969;}#sk-container-id-2 label.sk-toggleable__label-arrow:hover:before {color: black;}#sk-container-id-2 div.sk-estimator:hover label.sk-toggleable__label-arrow:before {color: black;}#sk-container-id-2 div.sk-toggleable__content {max-height: 0;max-width: 0;overflow: hidden;text-align: left;background-color: #f0f8ff;}#sk-container-id-2 div.sk-toggleable__content pre {margin: 0.2em;color: black;border-radius: 0.25em;background-color: #f0f8ff;}#sk-container-id-2 input.sk-toggleable__control:checked~div.sk-toggleable__content {max-height: 200px;max-width: 100%;overflow: auto;}#sk-container-id-2 input.sk-toggleable__control:checked~label.sk-toggleable__label-arrow:before {content: \"▾\";}#sk-container-id-2 div.sk-estimator input.sk-toggleable__control:checked~label.sk-toggleable__label {background-color: #d4ebff;}#sk-container-id-2 div.sk-label input.sk-toggleable__control:checked~label.sk-toggleable__label {background-color: #d4ebff;}#sk-container-id-2 input.sk-hidden--visually {border: 0;clip: rect(1px 1px 1px 1px);clip: rect(1px, 1px, 1px, 1px);height: 1px;margin: -1px;overflow: hidden;padding: 0;position: absolute;width: 1px;}#sk-container-id-2 div.sk-estimator {font-family: monospace;background-color: #f0f8ff;border: 1px dotted black;border-radius: 0.25em;box-sizing: border-box;margin-bottom: 0.5em;}#sk-container-id-2 div.sk-estimator:hover {background-color: #d4ebff;}#sk-container-id-2 div.sk-parallel-item::after {content: \"\";width: 100%;border-bottom: 1px solid gray;flex-grow: 1;}#sk-container-id-2 div.sk-label:hover label.sk-toggleable__label {background-color: #d4ebff;}#sk-container-id-2 div.sk-serial::before {content: \"\";position: absolute;border-left: 1px solid gray;box-sizing: border-box;top: 0;bottom: 0;left: 50%;z-index: 0;}#sk-container-id-2 div.sk-serial {display: flex;flex-direction: column;align-items: center;background-color: white;padding-right: 0.2em;padding-left: 0.2em;position: relative;}#sk-container-id-2 div.sk-item {position: relative;z-index: 1;}#sk-container-id-2 div.sk-parallel {display: flex;align-items: stretch;justify-content: center;background-color: white;position: relative;}#sk-container-id-2 div.sk-item::before, #sk-container-id-2 div.sk-parallel-item::before {content: \"\";position: absolute;border-left: 1px solid gray;box-sizing: border-box;top: 0;bottom: 0;left: 50%;z-index: -1;}#sk-container-id-2 div.sk-parallel-item {display: flex;flex-direction: column;z-index: 1;position: relative;background-color: white;}#sk-container-id-2 div.sk-parallel-item:first-child::after {align-self: flex-end;width: 50%;}#sk-container-id-2 div.sk-parallel-item:last-child::after {align-self: flex-start;width: 50%;}#sk-container-id-2 div.sk-parallel-item:only-child::after {width: 0;}#sk-container-id-2 div.sk-dashed-wrapped {border: 1px dashed gray;margin: 0 0.4em 0.5em 0.4em;box-sizing: border-box;padding-bottom: 0.4em;background-color: white;}#sk-container-id-2 div.sk-label label {font-family: monospace;font-weight: bold;display: inline-block;line-height: 1.2em;}#sk-container-id-2 div.sk-label-container {text-align: center;}#sk-container-id-2 div.sk-container {/* jupyter's `normalize.less` sets `[hidden] { display: none; }` but bootstrap.min.css set `[hidden] { display: none !important; }` so we also need the `!important` here to be able to override the default hidden behavior on the sphinx rendered scikit-learn.org. See: https://github.com/scikit-learn/scikit-learn/issues/21755 */display: inline-block !important;position: relative;}#sk-container-id-2 div.sk-text-repr-fallback {display: none;}</style><div id=\"sk-container-id-2\" class=\"sk-top-container\"><div class=\"sk-text-repr-fallback\"><pre>LogisticRegression()</pre><b>In a Jupyter environment, please rerun this cell to show the HTML representation or trust the notebook. <br />On GitHub, the HTML representation is unable to render, please try loading this page with nbviewer.org.</b></div><div class=\"sk-container\" hidden><div class=\"sk-item\"><div class=\"sk-estimator sk-toggleable\"><input class=\"sk-toggleable__control sk-hidden--visually\" id=\"sk-estimator-id-2\" type=\"checkbox\" checked><label for=\"sk-estimator-id-2\" class=\"sk-toggleable__label sk-toggleable__label-arrow\">LogisticRegression</label><div class=\"sk-toggleable__content\"><pre>LogisticRegression()</pre></div></div></div></div></div>"
            ]
          },
          "metadata": {},
          "execution_count": 75
        }
      ]
    },
    {
      "cell_type": "code",
      "source": [
        "# Calculate accuracy on the training set\n",
        "\n",
        "print(\"Training accuracy\", logreg.score(X_train, y_train))"
      ],
      "metadata": {
        "colab": {
          "base_uri": "https://localhost:8080/"
        },
        "id": "JnSLaaUxk7BO",
        "outputId": "9b0dbb2e-d1e5-4297-edf2-a2658d0962d3"
      },
      "execution_count": 76,
      "outputs": [
        {
          "output_type": "stream",
          "name": "stdout",
          "text": [
            "Training accuracy 0.43366093366093367\n"
          ]
        }
      ]
    }
  ]
}